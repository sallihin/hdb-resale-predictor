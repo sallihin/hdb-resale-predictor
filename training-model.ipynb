{
  "cells": [
    {
      "cell_type": "markdown",
      "metadata": {
        "id": "view-in-github",
        "colab_type": "text"
      },
      "source": [
        "<a href=\"https://colab.research.google.com/github/sallihin/hdb-resale-predictor/blob/main/training-model.ipynb\" target=\"_parent\"><img src=\"https://colab.research.google.com/assets/colab-badge.svg\" alt=\"Open In Colab\"/></a>"
      ]
    },
    {
      "cell_type": "markdown",
      "source": [
        "### 1. Data Preparation"
      ],
      "metadata": {
        "id": "H2PcT3D10-sX"
      }
    },
    {
      "cell_type": "markdown",
      "metadata": {
        "id": "CPlrde7hC0v0"
      },
      "source": [
        "Data.gov.sg - Resale Flat Prices<br/>\n",
        "https://data.gov.sg/dataset/resale-flat-prices\n"
      ]
    },
    {
      "cell_type": "code",
      "execution_count": 1,
      "metadata": {
        "id": "qdN0VtNa-t3Q"
      },
      "outputs": [],
      "source": [
        "import pandas as pd\n",
        "from sklearn import ensemble, linear_model, tree\n",
        "from sklearn.model_selection import GridSearchCV, RandomizedSearchCV, cross_val_score, train_test_split\n",
        "from sklearn.metrics import mean_absolute_error, mean_squared_error, r2_score  \n",
        "\n",
        "import re\n",
        "import matplotlib.pyplot as plt\n",
        "import seaborn as sns\n",
        "import numpy as np\n",
        "\n",
        "import sklearn.externals\n",
        "import joblib"
      ]
    },
    {
      "cell_type": "code",
      "source": [
        " from google.colab import drive\n",
        " drive.mount('/content/drive')"
      ],
      "metadata": {
        "colab": {
          "base_uri": "https://localhost:8080/"
        },
        "id": "Q9HrI3ph_aQJ",
        "outputId": "fc382fb4-8ab8-44f4-e8a4-abcb62670724"
      },
      "execution_count": 2,
      "outputs": [
        {
          "output_type": "stream",
          "name": "stdout",
          "text": [
            "Mounted at /content/drive\n"
          ]
        }
      ]
    },
    {
      "cell_type": "code",
      "execution_count": 3,
      "metadata": {
        "id": "WW8jZW2w_Cji"
      },
      "outputs": [],
      "source": [
        "df = pd.read_csv(\"/content/drive/MyDrive/MLDV/Assessment/resale-flat-prices-based-on-registration-date-from-jan-2017-onwards.csv\")"
      ]
    },
    {
      "cell_type": "markdown",
      "metadata": {
        "id": "b6Nu-MU8DFDl"
      },
      "source": [
        "### 2. Exploratory Data Analysis"
      ]
    },
    {
      "cell_type": "code",
      "execution_count": 4,
      "metadata": {
        "colab": {
          "base_uri": "https://localhost:8080/"
        },
        "id": "fKO_53s0DF5O",
        "outputId": "723aa0a7-1c61-40ea-9345-ef5bc8877ff4"
      },
      "outputs": [
        {
          "output_type": "execute_result",
          "data": {
            "text/plain": [
              "(140168, 11)"
            ]
          },
          "metadata": {},
          "execution_count": 4
        }
      ],
      "source": [
        "df.shape"
      ]
    },
    {
      "cell_type": "code",
      "execution_count": 5,
      "metadata": {
        "colab": {
          "base_uri": "https://localhost:8080/",
          "height": 444
        },
        "id": "-gD1de5vAIAQ",
        "outputId": "749522c5-67aa-4c85-8cbf-7404160d1f67"
      },
      "outputs": [
        {
          "output_type": "execute_result",
          "data": {
            "text/html": [
              "\n",
              "  <div id=\"df-cf1faec9-f9b3-41d7-b606-b789a9a5a49c\">\n",
              "    <div class=\"colab-df-container\">\n",
              "      <div>\n",
              "<style scoped>\n",
              "    .dataframe tbody tr th:only-of-type {\n",
              "        vertical-align: middle;\n",
              "    }\n",
              "\n",
              "    .dataframe tbody tr th {\n",
              "        vertical-align: top;\n",
              "    }\n",
              "\n",
              "    .dataframe thead th {\n",
              "        text-align: right;\n",
              "    }\n",
              "</style>\n",
              "<table border=\"1\" class=\"dataframe\">\n",
              "  <thead>\n",
              "    <tr style=\"text-align: right;\">\n",
              "      <th></th>\n",
              "      <th>month</th>\n",
              "      <th>town</th>\n",
              "      <th>flat_type</th>\n",
              "      <th>block</th>\n",
              "      <th>street_name</th>\n",
              "      <th>storey_range</th>\n",
              "      <th>floor_area_sqm</th>\n",
              "      <th>flat_model</th>\n",
              "      <th>lease_commence_date</th>\n",
              "      <th>remaining_lease</th>\n",
              "      <th>resale_price</th>\n",
              "    </tr>\n",
              "  </thead>\n",
              "  <tbody>\n",
              "    <tr>\n",
              "      <th>0</th>\n",
              "      <td>2017-01</td>\n",
              "      <td>ANG MO KIO</td>\n",
              "      <td>2 ROOM</td>\n",
              "      <td>406</td>\n",
              "      <td>ANG MO KIO AVE 10</td>\n",
              "      <td>10 TO 12</td>\n",
              "      <td>44.0</td>\n",
              "      <td>Improved</td>\n",
              "      <td>1979</td>\n",
              "      <td>61 years 04 months</td>\n",
              "      <td>232000.0</td>\n",
              "    </tr>\n",
              "    <tr>\n",
              "      <th>1</th>\n",
              "      <td>2017-01</td>\n",
              "      <td>ANG MO KIO</td>\n",
              "      <td>3 ROOM</td>\n",
              "      <td>108</td>\n",
              "      <td>ANG MO KIO AVE 4</td>\n",
              "      <td>01 TO 03</td>\n",
              "      <td>67.0</td>\n",
              "      <td>New Generation</td>\n",
              "      <td>1978</td>\n",
              "      <td>60 years 07 months</td>\n",
              "      <td>250000.0</td>\n",
              "    </tr>\n",
              "    <tr>\n",
              "      <th>2</th>\n",
              "      <td>2017-01</td>\n",
              "      <td>ANG MO KIO</td>\n",
              "      <td>3 ROOM</td>\n",
              "      <td>602</td>\n",
              "      <td>ANG MO KIO AVE 5</td>\n",
              "      <td>01 TO 03</td>\n",
              "      <td>67.0</td>\n",
              "      <td>New Generation</td>\n",
              "      <td>1980</td>\n",
              "      <td>62 years 05 months</td>\n",
              "      <td>262000.0</td>\n",
              "    </tr>\n",
              "    <tr>\n",
              "      <th>3</th>\n",
              "      <td>2017-01</td>\n",
              "      <td>ANG MO KIO</td>\n",
              "      <td>3 ROOM</td>\n",
              "      <td>465</td>\n",
              "      <td>ANG MO KIO AVE 10</td>\n",
              "      <td>04 TO 06</td>\n",
              "      <td>68.0</td>\n",
              "      <td>New Generation</td>\n",
              "      <td>1980</td>\n",
              "      <td>62 years 01 month</td>\n",
              "      <td>265000.0</td>\n",
              "    </tr>\n",
              "    <tr>\n",
              "      <th>4</th>\n",
              "      <td>2017-01</td>\n",
              "      <td>ANG MO KIO</td>\n",
              "      <td>3 ROOM</td>\n",
              "      <td>601</td>\n",
              "      <td>ANG MO KIO AVE 5</td>\n",
              "      <td>01 TO 03</td>\n",
              "      <td>67.0</td>\n",
              "      <td>New Generation</td>\n",
              "      <td>1980</td>\n",
              "      <td>62 years 05 months</td>\n",
              "      <td>265000.0</td>\n",
              "    </tr>\n",
              "  </tbody>\n",
              "</table>\n",
              "</div>\n",
              "      <button class=\"colab-df-convert\" onclick=\"convertToInteractive('df-cf1faec9-f9b3-41d7-b606-b789a9a5a49c')\"\n",
              "              title=\"Convert this dataframe to an interactive table.\"\n",
              "              style=\"display:none;\">\n",
              "        \n",
              "  <svg xmlns=\"http://www.w3.org/2000/svg\" height=\"24px\"viewBox=\"0 0 24 24\"\n",
              "       width=\"24px\">\n",
              "    <path d=\"M0 0h24v24H0V0z\" fill=\"none\"/>\n",
              "    <path d=\"M18.56 5.44l.94 2.06.94-2.06 2.06-.94-2.06-.94-.94-2.06-.94 2.06-2.06.94zm-11 1L8.5 8.5l.94-2.06 2.06-.94-2.06-.94L8.5 2.5l-.94 2.06-2.06.94zm10 10l.94 2.06.94-2.06 2.06-.94-2.06-.94-.94-2.06-.94 2.06-2.06.94z\"/><path d=\"M17.41 7.96l-1.37-1.37c-.4-.4-.92-.59-1.43-.59-.52 0-1.04.2-1.43.59L10.3 9.45l-7.72 7.72c-.78.78-.78 2.05 0 2.83L4 21.41c.39.39.9.59 1.41.59.51 0 1.02-.2 1.41-.59l7.78-7.78 2.81-2.81c.8-.78.8-2.07 0-2.86zM5.41 20L4 18.59l7.72-7.72 1.47 1.35L5.41 20z\"/>\n",
              "  </svg>\n",
              "      </button>\n",
              "      \n",
              "  <style>\n",
              "    .colab-df-container {\n",
              "      display:flex;\n",
              "      flex-wrap:wrap;\n",
              "      gap: 12px;\n",
              "    }\n",
              "\n",
              "    .colab-df-convert {\n",
              "      background-color: #E8F0FE;\n",
              "      border: none;\n",
              "      border-radius: 50%;\n",
              "      cursor: pointer;\n",
              "      display: none;\n",
              "      fill: #1967D2;\n",
              "      height: 32px;\n",
              "      padding: 0 0 0 0;\n",
              "      width: 32px;\n",
              "    }\n",
              "\n",
              "    .colab-df-convert:hover {\n",
              "      background-color: #E2EBFA;\n",
              "      box-shadow: 0px 1px 2px rgba(60, 64, 67, 0.3), 0px 1px 3px 1px rgba(60, 64, 67, 0.15);\n",
              "      fill: #174EA6;\n",
              "    }\n",
              "\n",
              "    [theme=dark] .colab-df-convert {\n",
              "      background-color: #3B4455;\n",
              "      fill: #D2E3FC;\n",
              "    }\n",
              "\n",
              "    [theme=dark] .colab-df-convert:hover {\n",
              "      background-color: #434B5C;\n",
              "      box-shadow: 0px 1px 3px 1px rgba(0, 0, 0, 0.15);\n",
              "      filter: drop-shadow(0px 1px 2px rgba(0, 0, 0, 0.3));\n",
              "      fill: #FFFFFF;\n",
              "    }\n",
              "  </style>\n",
              "\n",
              "      <script>\n",
              "        const buttonEl =\n",
              "          document.querySelector('#df-cf1faec9-f9b3-41d7-b606-b789a9a5a49c button.colab-df-convert');\n",
              "        buttonEl.style.display =\n",
              "          google.colab.kernel.accessAllowed ? 'block' : 'none';\n",
              "\n",
              "        async function convertToInteractive(key) {\n",
              "          const element = document.querySelector('#df-cf1faec9-f9b3-41d7-b606-b789a9a5a49c');\n",
              "          const dataTable =\n",
              "            await google.colab.kernel.invokeFunction('convertToInteractive',\n",
              "                                                     [key], {});\n",
              "          if (!dataTable) return;\n",
              "\n",
              "          const docLinkHtml = 'Like what you see? Visit the ' +\n",
              "            '<a target=\"_blank\" href=https://colab.research.google.com/notebooks/data_table.ipynb>data table notebook</a>'\n",
              "            + ' to learn more about interactive tables.';\n",
              "          element.innerHTML = '';\n",
              "          dataTable['output_type'] = 'display_data';\n",
              "          await google.colab.output.renderOutput(dataTable, element);\n",
              "          const docLink = document.createElement('div');\n",
              "          docLink.innerHTML = docLinkHtml;\n",
              "          element.appendChild(docLink);\n",
              "        }\n",
              "      </script>\n",
              "    </div>\n",
              "  </div>\n",
              "  "
            ],
            "text/plain": [
              "     month        town  ...     remaining_lease resale_price\n",
              "0  2017-01  ANG MO KIO  ...  61 years 04 months     232000.0\n",
              "1  2017-01  ANG MO KIO  ...  60 years 07 months     250000.0\n",
              "2  2017-01  ANG MO KIO  ...  62 years 05 months     262000.0\n",
              "3  2017-01  ANG MO KIO  ...   62 years 01 month     265000.0\n",
              "4  2017-01  ANG MO KIO  ...  62 years 05 months     265000.0\n",
              "\n",
              "[5 rows x 11 columns]"
            ]
          },
          "metadata": {},
          "execution_count": 5
        }
      ],
      "source": [
        "df.head()"
      ]
    },
    {
      "cell_type": "code",
      "source": [
        "df.dtypes"
      ],
      "metadata": {
        "colab": {
          "base_uri": "https://localhost:8080/"
        },
        "id": "Yomn7S3o1POu",
        "outputId": "24f73acc-70b3-4876-aaf9-d1e423aae988"
      },
      "execution_count": 6,
      "outputs": [
        {
          "output_type": "execute_result",
          "data": {
            "text/plain": [
              "month                   object\n",
              "town                    object\n",
              "flat_type               object\n",
              "block                   object\n",
              "street_name             object\n",
              "storey_range            object\n",
              "floor_area_sqm         float64\n",
              "flat_model              object\n",
              "lease_commence_date      int64\n",
              "remaining_lease         object\n",
              "resale_price           float64\n",
              "dtype: object"
            ]
          },
          "metadata": {},
          "execution_count": 6
        }
      ]
    },
    {
      "cell_type": "markdown",
      "source": [
        ""
      ],
      "metadata": {
        "id": "10BojfpRFm5-"
      }
    },
    {
      "cell_type": "markdown",
      "source": [
        "#### 2.1 Relationship between Resale Price and Block Number\n",
        "Block numbers do not correlate with resale prices, and does not seem to affect the resale price. "
      ],
      "metadata": {
        "id": "_0BFqh0qFRnt"
      }
    },
    {
      "cell_type": "code",
      "source": [
        "# Strip letters from block numbers\n",
        "df['block'] = df['block'].apply(lambda x: int(re.sub(\"\\D+\", \"\", x)))\n",
        "\n",
        "# Draw Plot\n",
        "plt.figure(figsize=(10,6), dpi= 80)\n",
        "plt.scatter(df['resale_price'], df['block'], s=2, c='#dd519d')\n",
        "\n",
        "# Decoration\n",
        "plt.xlabel(\"Resale Prices\", fontsize=8); plt.ylabel(\"Block Numbers\", fontsize=8)\n",
        "plt.title(\"Scatterplot of Resale Prices vs Block Numbers\", fontsize=10)\n",
        "plt.xticks(ticks=[100000,200000,300000,400000,500000,600000,700000,800000,900000,1000000,1100000,1200000,1300000,1400000], \n",
        "           labels=['100k','200k','300k','400k','500k','600k','700k','800k','900k','1m','1.1m','1.2m','1.3m','1.4m'],\n",
        "           fontsize=8); \n",
        "plt.yticks(ticks=[0,100,200,300,400,500,600,700,800,900,1000],\n",
        "           fontsize=8)\n",
        "\n",
        "plt.show()"
      ],
      "metadata": {
        "colab": {
          "base_uri": "https://localhost:8080/",
          "height": 440
        },
        "id": "W6nqkKwE1Xzg",
        "outputId": "8702f456-d57d-4014-a0b5-0c4ef8d7a51b"
      },
      "execution_count": 7,
      "outputs": [
        {
          "output_type": "display_data",
          "data": {
            "image/png": "[encoded data removed]",
            "text/plain": [
              "<Figure size 800x480 with 1 Axes>"
            ]
          },
          "metadata": {
            "needs_background": "light"
          }
        }
      ]
    },
    {
      "cell_type": "markdown",
      "source": [
        "#### 2.2 Relationship between Resale Price and Flat Type\n",
        "Generally resale prices are higher for bigger units, although there is quite a number of outliers for 3-5 room flats due to other factors such as location and unit level. "
      ],
      "metadata": {
        "id": "LHkfqEnfGk46"
      }
    },
    {
      "cell_type": "code",
      "source": [
        "# Sorting \n",
        "sorted_average = df.groupby('flat_type')['resale_price'].mean().sort_values(ascending=True)\n",
        "\n",
        "# Draw Plot\n",
        "plt.figure(figsize=(10,6), dpi= 80)\n",
        "sns.boxplot(x=df['flat_type'], y=df['resale_price'], order=sorted_average.index)\n",
        "\n",
        "# Decoration\n",
        "plt.xlabel(\"Flat Type\", fontsize=8); plt.ylabel(\"Resale Prices\", fontsize=8)\n",
        "plt.title(\"Boxplot of Resale Prices vs Block Numbers\", fontsize=10)\n",
        "plt.show()"
      ],
      "metadata": {
        "colab": {
          "base_uri": "https://localhost:8080/",
          "height": 441
        },
        "id": "Zg6jaJp9GlRU",
        "outputId": "87203d74-ca4d-425d-8fd7-e0c49bea0879"
      },
      "execution_count": 8,
      "outputs": [
        {
          "output_type": "display_data",
          "data": {
            "image/png": "[encoded data removed]",
            "text/plain": [
              "<Figure size 800x480 with 1 Axes>"
            ]
          },
          "metadata": {
            "needs_background": "light"
          }
        }
      ]
    },
    {
      "cell_type": "markdown",
      "source": [
        "#### 2.3 Relationship between Resale Price and Town\n",
        "Based on the median, houses in Bukit Timah, Queenstown and Bishan generally fetch higher prices compared to other town. "
      ],
      "metadata": {
        "id": "AbSBWC_-Na34"
      }
    },
    {
      "cell_type": "code",
      "source": [
        "# Sorting \n",
        "sorted_average = df[df.month.str.contains(\"2021\")].groupby('town')['resale_price'].median().sort_values(ascending=False)\n",
        "\n",
        "# Draw Plot\n",
        "plt.figure(figsize=(6,10), dpi= 80)\n",
        "sns.boxplot(x=df['resale_price'], y=df[df.month.str.contains(\"2021\")]['town'], order=sorted_average.index)\n",
        "\n",
        "# Decoration\n",
        "plt.xlabel(\"Resale Prices\", fontsize=8); plt.ylabel(\"Town\", fontsize=8)\n",
        "plt.xticks(ticks=[100000,200000,300000,400000,500000,600000,700000,800000,900000,1000000,1100000,1200000,1300000,1400000], \n",
        "           labels=['100k','200k','300k','400k','500k','600k','700k','800k','900k','1m','1.1m','1.2m','1.3m','1.4m'],\n",
        "           fontsize=8); \n",
        "plt.yticks(fontsize=8)\n",
        "plt.title(\"Boxplot of Resale Prices vs Town\", fontsize=10)\n",
        "plt.show()"
      ],
      "metadata": {
        "colab": {
          "base_uri": "https://localhost:8080/",
          "height": 681
        },
        "id": "hk7EDCENNb3Q",
        "outputId": "56677860-529f-4ae1-b459-d899dc61e13b"
      },
      "execution_count": 147,
      "outputs": [
        {
          "output_type": "display_data",
          "data": {
            "image/png": "[encoded data removed]",
            "text/plain": [
              "<Figure size 480x800 with 1 Axes>"
            ]
          },
          "metadata": {
            "needs_background": "light"
          }
        }
      ]
    },
    {
      "cell_type": "markdown",
      "source": [
        "#### 2.4 Relationship between Resale Price and Lease Commencement Date\n",
        "Surprisingly there is very little correlation between the age of the flat versus the resale price. "
      ],
      "metadata": {
        "id": "tE6ThR4in7gs"
      }
    },
    {
      "cell_type": "code",
      "source": [
        "# Draw Plot\n",
        "plt.figure(figsize=(10,6), dpi= 80)\n",
        "plt.scatter(df['resale_price'], df['lease_commence_date'], s=2, c='#dd519d')\n",
        "\n",
        "# Decoration\n",
        "plt.xlabel(\"Resale Prices\", fontsize=8); plt.ylabel(\"Lease Commence Date\", fontsize=8)\n",
        "plt.title(\"Scatterplot of Resale Prices vs Year of TOP\", fontsize=10)\n",
        "plt.xticks(ticks=[100000,200000,300000,400000,500000,600000,700000,800000,900000,1000000,1100000,1200000,1300000,1400000], \n",
        "           labels=['100k','200k','300k','400k','500k','600k','700k','800k','900k','1m','1.1m','1.2m','1.3m','1.4m'],\n",
        "           fontsize=8); \n",
        "# plt.yticks(ticks=[1970, 1980, 1990, 2000, 2010, 2020],\n",
        "#            fontsize=8)\n",
        "\n",
        "plt.show()"
      ],
      "metadata": {
        "colab": {
          "base_uri": "https://localhost:8080/",
          "height": 440
        },
        "id": "-74SbB4jn76E",
        "outputId": "67019780-1a7f-44d9-e0c4-cafc38e837c3"
      },
      "execution_count": 10,
      "outputs": [
        {
          "output_type": "display_data",
          "data": {
            "image/png": "[encoded data removed]",
            "text/plain": [
              "<Figure size 800x480 with 1 Axes>"
            ]
          },
          "metadata": {
            "needs_background": "light"
          }
        }
      ]
    },
    {
      "cell_type": "markdown",
      "source": [
        "However, when I filter the data by town and flat_type, it is clear that there is a relationship between the lease start date and price. "
      ],
      "metadata": {
        "id": "kaR1eWNXxMjG"
      }
    },
    {
      "cell_type": "code",
      "source": [
        "# Draw Plot\n",
        "plt.figure(figsize=(10,6), dpi= 80)\n",
        "by_town = df[(df.town == 'TOA PAYOH') & (df.flat_type == '4 ROOM')]\n",
        "plt.scatter(by_town['resale_price'], by_town['lease_commence_date'], s=2, c='#dd519d')\n",
        "\n",
        "# Decoration\n",
        "plt.xlabel(\"Resale Prices\", fontsize=8); plt.ylabel(\"Lease Commence Date\", fontsize=8)\n",
        "plt.title(\"Scatterplot of Resale Prices vs Year of TOP\", fontsize=10)\n",
        "plt.xticks(ticks=[100000,200000,300000,400000,500000,600000,700000,800000,900000,1000000,1100000,1200000,1300000,1400000], \n",
        "           labels=['100k','200k','300k','400k','500k','600k','700k','800k','900k','1m','1.1m','1.2m','1.3m','1.4m'],\n",
        "           fontsize=8); \n",
        "plt.yticks(ticks=[1970, 1980, 1990, 2000, 2010, 2020],\n",
        "           fontsize=8)\n",
        "\n",
        "plt.show()"
      ],
      "metadata": {
        "colab": {
          "base_uri": "https://localhost:8080/",
          "height": 440
        },
        "id": "9Wa_4qMSsSnp",
        "outputId": "ef4b28c6-73b1-4c3d-aae7-660723e7969f"
      },
      "execution_count": 11,
      "outputs": [
        {
          "output_type": "display_data",
          "data": {
            "image/png": "[encoded data removed]",
            "text/plain": [
              "<Figure size 800x480 with 1 Axes>"
            ]
          },
          "metadata": {
            "needs_background": "light"
          }
        }
      ]
    },
    {
      "cell_type": "markdown",
      "metadata": {
        "id": "_Wm_rSMjBRfa"
      },
      "source": [
        "### 3. Data Preparation\n"
      ]
    },
    {
      "cell_type": "markdown",
      "metadata": {
        "id": "vQtZWVEcEadb"
      },
      "source": [
        "#### 3.1 Feature Selection\n",
        "* As HDB flats have 99 years lease, the lease_commence_date and remaining_lease are highly correlated to each other. \n",
        "* I will also remove the block numbers and street_name to reduce noise and prevent overfitting.\n"
      ]
    },
    {
      "cell_type": "code",
      "source": [
        "df.head()"
      ],
      "metadata": {
        "id": "Fm5BfMmxF-si",
        "outputId": "8a481988-ba3d-4679-c12e-3edfbca938fc",
        "colab": {
          "base_uri": "https://localhost:8080/",
          "height": 444
        }
      },
      "execution_count": 12,
      "outputs": [
        {
          "output_type": "execute_result",
          "data": {
            "text/html": [
              "\n",
              "  <div id=\"df-4decc03b-0ebc-4541-aef7-3edd8f58e312\">\n",
              "    <div class=\"colab-df-container\">\n",
              "      <div>\n",
              "<style scoped>\n",
              "    .dataframe tbody tr th:only-of-type {\n",
              "        vertical-align: middle;\n",
              "    }\n",
              "\n",
              "    .dataframe tbody tr th {\n",
              "        vertical-align: top;\n",
              "    }\n",
              "\n",
              "    .dataframe thead th {\n",
              "        text-align: right;\n",
              "    }\n",
              "</style>\n",
              "<table border=\"1\" class=\"dataframe\">\n",
              "  <thead>\n",
              "    <tr style=\"text-align: right;\">\n",
              "      <th></th>\n",
              "      <th>month</th>\n",
              "      <th>town</th>\n",
              "      <th>flat_type</th>\n",
              "      <th>block</th>\n",
              "      <th>street_name</th>\n",
              "      <th>storey_range</th>\n",
              "      <th>floor_area_sqm</th>\n",
              "      <th>flat_model</th>\n",
              "      <th>lease_commence_date</th>\n",
              "      <th>remaining_lease</th>\n",
              "      <th>resale_price</th>\n",
              "    </tr>\n",
              "  </thead>\n",
              "  <tbody>\n",
              "    <tr>\n",
              "      <th>0</th>\n",
              "      <td>2017-01</td>\n",
              "      <td>ANG MO KIO</td>\n",
              "      <td>2 ROOM</td>\n",
              "      <td>406</td>\n",
              "      <td>ANG MO KIO AVE 10</td>\n",
              "      <td>10 TO 12</td>\n",
              "      <td>44.0</td>\n",
              "      <td>Improved</td>\n",
              "      <td>1979</td>\n",
              "      <td>61 years 04 months</td>\n",
              "      <td>232000.0</td>\n",
              "    </tr>\n",
              "    <tr>\n",
              "      <th>1</th>\n",
              "      <td>2017-01</td>\n",
              "      <td>ANG MO KIO</td>\n",
              "      <td>3 ROOM</td>\n",
              "      <td>108</td>\n",
              "      <td>ANG MO KIO AVE 4</td>\n",
              "      <td>01 TO 03</td>\n",
              "      <td>67.0</td>\n",
              "      <td>New Generation</td>\n",
              "      <td>1978</td>\n",
              "      <td>60 years 07 months</td>\n",
              "      <td>250000.0</td>\n",
              "    </tr>\n",
              "    <tr>\n",
              "      <th>2</th>\n",
              "      <td>2017-01</td>\n",
              "      <td>ANG MO KIO</td>\n",
              "      <td>3 ROOM</td>\n",
              "      <td>602</td>\n",
              "      <td>ANG MO KIO AVE 5</td>\n",
              "      <td>01 TO 03</td>\n",
              "      <td>67.0</td>\n",
              "      <td>New Generation</td>\n",
              "      <td>1980</td>\n",
              "      <td>62 years 05 months</td>\n",
              "      <td>262000.0</td>\n",
              "    </tr>\n",
              "    <tr>\n",
              "      <th>3</th>\n",
              "      <td>2017-01</td>\n",
              "      <td>ANG MO KIO</td>\n",
              "      <td>3 ROOM</td>\n",
              "      <td>465</td>\n",
              "      <td>ANG MO KIO AVE 10</td>\n",
              "      <td>04 TO 06</td>\n",
              "      <td>68.0</td>\n",
              "      <td>New Generation</td>\n",
              "      <td>1980</td>\n",
              "      <td>62 years 01 month</td>\n",
              "      <td>265000.0</td>\n",
              "    </tr>\n",
              "    <tr>\n",
              "      <th>4</th>\n",
              "      <td>2017-01</td>\n",
              "      <td>ANG MO KIO</td>\n",
              "      <td>3 ROOM</td>\n",
              "      <td>601</td>\n",
              "      <td>ANG MO KIO AVE 5</td>\n",
              "      <td>01 TO 03</td>\n",
              "      <td>67.0</td>\n",
              "      <td>New Generation</td>\n",
              "      <td>1980</td>\n",
              "      <td>62 years 05 months</td>\n",
              "      <td>265000.0</td>\n",
              "    </tr>\n",
              "  </tbody>\n",
              "</table>\n",
              "</div>\n",
              "      <button class=\"colab-df-convert\" onclick=\"convertToInteractive('df-4decc03b-0ebc-4541-aef7-3edd8f58e312')\"\n",
              "              title=\"Convert this dataframe to an interactive table.\"\n",
              "              style=\"display:none;\">\n",
              "        \n",
              "  <svg xmlns=\"http://www.w3.org/2000/svg\" height=\"24px\"viewBox=\"0 0 24 24\"\n",
              "       width=\"24px\">\n",
              "    <path d=\"M0 0h24v24H0V0z\" fill=\"none\"/>\n",
              "    <path d=\"M18.56 5.44l.94 2.06.94-2.06 2.06-.94-2.06-.94-.94-2.06-.94 2.06-2.06.94zm-11 1L8.5 8.5l.94-2.06 2.06-.94-2.06-.94L8.5 2.5l-.94 2.06-2.06.94zm10 10l.94 2.06.94-2.06 2.06-.94-2.06-.94-.94-2.06-.94 2.06-2.06.94z\"/><path d=\"M17.41 7.96l-1.37-1.37c-.4-.4-.92-.59-1.43-.59-.52 0-1.04.2-1.43.59L10.3 9.45l-7.72 7.72c-.78.78-.78 2.05 0 2.83L4 21.41c.39.39.9.59 1.41.59.51 0 1.02-.2 1.41-.59l7.78-7.78 2.81-2.81c.8-.78.8-2.07 0-2.86zM5.41 20L4 18.59l7.72-7.72 1.47 1.35L5.41 20z\"/>\n",
              "  </svg>\n",
              "      </button>\n",
              "      \n",
              "  <style>\n",
              "    .colab-df-container {\n",
              "      display:flex;\n",
              "      flex-wrap:wrap;\n",
              "      gap: 12px;\n",
              "    }\n",
              "\n",
              "    .colab-df-convert {\n",
              "      background-color: #E8F0FE;\n",
              "      border: none;\n",
              "      border-radius: 50%;\n",
              "      cursor: pointer;\n",
              "      display: none;\n",
              "      fill: #1967D2;\n",
              "      height: 32px;\n",
              "      padding: 0 0 0 0;\n",
              "      width: 32px;\n",
              "    }\n",
              "\n",
              "    .colab-df-convert:hover {\n",
              "      background-color: #E2EBFA;\n",
              "      box-shadow: 0px 1px 2px rgba(60, 64, 67, 0.3), 0px 1px 3px 1px rgba(60, 64, 67, 0.15);\n",
              "      fill: #174EA6;\n",
              "    }\n",
              "\n",
              "    [theme=dark] .colab-df-convert {\n",
              "      background-color: #3B4455;\n",
              "      fill: #D2E3FC;\n",
              "    }\n",
              "\n",
              "    [theme=dark] .colab-df-convert:hover {\n",
              "      background-color: #434B5C;\n",
              "      box-shadow: 0px 1px 3px 1px rgba(0, 0, 0, 0.15);\n",
              "      filter: drop-shadow(0px 1px 2px rgba(0, 0, 0, 0.3));\n",
              "      fill: #FFFFFF;\n",
              "    }\n",
              "  </style>\n",
              "\n",
              "      <script>\n",
              "        const buttonEl =\n",
              "          document.querySelector('#df-4decc03b-0ebc-4541-aef7-3edd8f58e312 button.colab-df-convert');\n",
              "        buttonEl.style.display =\n",
              "          google.colab.kernel.accessAllowed ? 'block' : 'none';\n",
              "\n",
              "        async function convertToInteractive(key) {\n",
              "          const element = document.querySelector('#df-4decc03b-0ebc-4541-aef7-3edd8f58e312');\n",
              "          const dataTable =\n",
              "            await google.colab.kernel.invokeFunction('convertToInteractive',\n",
              "                                                     [key], {});\n",
              "          if (!dataTable) return;\n",
              "\n",
              "          const docLinkHtml = 'Like what you see? Visit the ' +\n",
              "            '<a target=\"_blank\" href=https://colab.research.google.com/notebooks/data_table.ipynb>data table notebook</a>'\n",
              "            + ' to learn more about interactive tables.';\n",
              "          element.innerHTML = '';\n",
              "          dataTable['output_type'] = 'display_data';\n",
              "          await google.colab.output.renderOutput(dataTable, element);\n",
              "          const docLink = document.createElement('div');\n",
              "          docLink.innerHTML = docLinkHtml;\n",
              "          element.appendChild(docLink);\n",
              "        }\n",
              "      </script>\n",
              "    </div>\n",
              "  </div>\n",
              "  "
            ],
            "text/plain": [
              "     month        town  ...     remaining_lease  resale_price\n",
              "0  2017-01  ANG MO KIO  ...  61 years 04 months      232000.0\n",
              "1  2017-01  ANG MO KIO  ...  60 years 07 months      250000.0\n",
              "2  2017-01  ANG MO KIO  ...  62 years 05 months      262000.0\n",
              "3  2017-01  ANG MO KIO  ...   62 years 01 month      265000.0\n",
              "4  2017-01  ANG MO KIO  ...  62 years 05 months      265000.0\n",
              "\n",
              "[5 rows x 11 columns]"
            ]
          },
          "metadata": {},
          "execution_count": 12
        }
      ]
    },
    {
      "cell_type": "code",
      "source": [
        "# Convert remaining lease into months format (y*12 + m)\n",
        "df.remaining_lease = df.remaining_lease.str.split(' ').str[0].astype(int) * 12 + df.remaining_lease.str.split(' ').str[2].fillna(\"0\").astype(str).astype(int)"
      ],
      "metadata": {
        "id": "ZClpE3g-GHoi"
      },
      "execution_count": 119,
      "outputs": []
    },
    {
      "cell_type": "code",
      "source": [
        "corr = df.corr()\n",
        "corr.style.background_gradient(cmap=\"Blues\")"
      ],
      "metadata": {
        "id": "Va6cuHa8Fsti",
        "outputId": "44599c6b-1f10-412b-f6f6-d8c1f8a291d8",
        "colab": {
          "base_uri": "https://localhost:8080/",
          "height": 206
        }
      },
      "execution_count": 121,
      "outputs": [
        {
          "output_type": "execute_result",
          "data": {
            "text/html": [
              "<style  type=\"text/css\" >\n",
              "#T_2506c3b2_7933_11ec_b217_0242ac1c0002row0_col0,#T_2506c3b2_7933_11ec_b217_0242ac1c0002row1_col1,#T_2506c3b2_7933_11ec_b217_0242ac1c0002row2_col2,#T_2506c3b2_7933_11ec_b217_0242ac1c0002row3_col3,#T_2506c3b2_7933_11ec_b217_0242ac1c0002row4_col4{\n",
              "            background-color:  #08306b;\n",
              "            color:  #f1f1f1;\n",
              "        }#T_2506c3b2_7933_11ec_b217_0242ac1c0002row0_col1{\n",
              "            background-color:  #edf4fc;\n",
              "            color:  #000000;\n",
              "        }#T_2506c3b2_7933_11ec_b217_0242ac1c0002row0_col2{\n",
              "            background-color:  #dfebf7;\n",
              "            color:  #000000;\n",
              "        }#T_2506c3b2_7933_11ec_b217_0242ac1c0002row0_col3{\n",
              "            background-color:  #deebf7;\n",
              "            color:  #000000;\n",
              "        }#T_2506c3b2_7933_11ec_b217_0242ac1c0002row0_col4,#T_2506c3b2_7933_11ec_b217_0242ac1c0002row1_col2,#T_2506c3b2_7933_11ec_b217_0242ac1c0002row1_col3,#T_2506c3b2_7933_11ec_b217_0242ac1c0002row2_col1,#T_2506c3b2_7933_11ec_b217_0242ac1c0002row3_col1,#T_2506c3b2_7933_11ec_b217_0242ac1c0002row4_col0{\n",
              "            background-color:  #f7fbff;\n",
              "            color:  #000000;\n",
              "        }#T_2506c3b2_7933_11ec_b217_0242ac1c0002row1_col0{\n",
              "            background-color:  #c3daee;\n",
              "            color:  #000000;\n",
              "        }#T_2506c3b2_7933_11ec_b217_0242ac1c0002row1_col4{\n",
              "            background-color:  #3a8ac2;\n",
              "            color:  #000000;\n",
              "        }#T_2506c3b2_7933_11ec_b217_0242ac1c0002row2_col0,#T_2506c3b2_7933_11ec_b217_0242ac1c0002row3_col0{\n",
              "            background-color:  #b2d2e8;\n",
              "            color:  #000000;\n",
              "        }#T_2506c3b2_7933_11ec_b217_0242ac1c0002row2_col3,#T_2506c3b2_7933_11ec_b217_0242ac1c0002row3_col2{\n",
              "            background-color:  #08316d;\n",
              "            color:  #f1f1f1;\n",
              "        }#T_2506c3b2_7933_11ec_b217_0242ac1c0002row2_col4{\n",
              "            background-color:  #92c4de;\n",
              "            color:  #000000;\n",
              "        }#T_2506c3b2_7933_11ec_b217_0242ac1c0002row3_col4{\n",
              "            background-color:  #97c6df;\n",
              "            color:  #000000;\n",
              "        }#T_2506c3b2_7933_11ec_b217_0242ac1c0002row4_col1{\n",
              "            background-color:  #57a0ce;\n",
              "            color:  #000000;\n",
              "        }#T_2506c3b2_7933_11ec_b217_0242ac1c0002row4_col2{\n",
              "            background-color:  #c8dcf0;\n",
              "            color:  #000000;\n",
              "        }#T_2506c3b2_7933_11ec_b217_0242ac1c0002row4_col3{\n",
              "            background-color:  #cbdef1;\n",
              "            color:  #000000;\n",
              "        }</style><table id=\"T_2506c3b2_7933_11ec_b217_0242ac1c0002\" class=\"dataframe\"><thead>    <tr>        <th class=\"blank level0\" ></th>        <th class=\"col_heading level0 col0\" >block</th>        <th class=\"col_heading level0 col1\" >floor_area_sqm</th>        <th class=\"col_heading level0 col2\" >lease_commence_date</th>        <th class=\"col_heading level0 col3\" >remaining_lease</th>        <th class=\"col_heading level0 col4\" >resale_price</th>    </tr></thead><tbody>\n",
              "                <tr>\n",
              "                        <th id=\"T_2506c3b2_7933_11ec_b217_0242ac1c0002level0_row0\" class=\"row_heading level0 row0\" >block</th>\n",
              "                        <td id=\"T_2506c3b2_7933_11ec_b217_0242ac1c0002row0_col0\" class=\"data row0 col0\" >1.000000</td>\n",
              "                        <td id=\"T_2506c3b2_7933_11ec_b217_0242ac1c0002row0_col1\" class=\"data row0 col1\" >0.186897</td>\n",
              "                        <td id=\"T_2506c3b2_7933_11ec_b217_0242ac1c0002row0_col2\" class=\"data row0 col2\" >0.247955</td>\n",
              "                        <td id=\"T_2506c3b2_7933_11ec_b217_0242ac1c0002row0_col3\" class=\"data row0 col3\" >0.249771</td>\n",
              "                        <td id=\"T_2506c3b2_7933_11ec_b217_0242ac1c0002row0_col4\" class=\"data row0 col4\" >-0.096471</td>\n",
              "            </tr>\n",
              "            <tr>\n",
              "                        <th id=\"T_2506c3b2_7933_11ec_b217_0242ac1c0002level0_row1\" class=\"row_heading level0 row1\" >floor_area_sqm</th>\n",
              "                        <td id=\"T_2506c3b2_7933_11ec_b217_0242ac1c0002row1_col0\" class=\"data row1 col0\" >0.186897</td>\n",
              "                        <td id=\"T_2506c3b2_7933_11ec_b217_0242ac1c0002row1_col1\" class=\"data row1 col1\" >1.000000</td>\n",
              "                        <td id=\"T_2506c3b2_7933_11ec_b217_0242ac1c0002row1_col2\" class=\"data row1 col2\" >0.140554</td>\n",
              "                        <td id=\"T_2506c3b2_7933_11ec_b217_0242ac1c0002row1_col3\" class=\"data row1 col3\" >0.142586</td>\n",
              "                        <td id=\"T_2506c3b2_7933_11ec_b217_0242ac1c0002row1_col4\" class=\"data row1 col4\" >0.622548</td>\n",
              "            </tr>\n",
              "            <tr>\n",
              "                        <th id=\"T_2506c3b2_7933_11ec_b217_0242ac1c0002level0_row2\" class=\"row_heading level0 row2\" >lease_commence_date</th>\n",
              "                        <td id=\"T_2506c3b2_7933_11ec_b217_0242ac1c0002row2_col0\" class=\"data row2 col0\" >0.247955</td>\n",
              "                        <td id=\"T_2506c3b2_7933_11ec_b217_0242ac1c0002row2_col1\" class=\"data row2 col1\" >0.140554</td>\n",
              "                        <td id=\"T_2506c3b2_7933_11ec_b217_0242ac1c0002row2_col2\" class=\"data row2 col2\" >1.000000</td>\n",
              "                        <td id=\"T_2506c3b2_7933_11ec_b217_0242ac1c0002row2_col3\" class=\"data row2 col3\" >0.994757</td>\n",
              "                        <td id=\"T_2506c3b2_7933_11ec_b217_0242ac1c0002row2_col4\" class=\"data row2 col4\" >0.346851</td>\n",
              "            </tr>\n",
              "            <tr>\n",
              "                        <th id=\"T_2506c3b2_7933_11ec_b217_0242ac1c0002level0_row3\" class=\"row_heading level0 row3\" >remaining_lease</th>\n",
              "                        <td id=\"T_2506c3b2_7933_11ec_b217_0242ac1c0002row3_col0\" class=\"data row3 col0\" >0.249771</td>\n",
              "                        <td id=\"T_2506c3b2_7933_11ec_b217_0242ac1c0002row3_col1\" class=\"data row3 col1\" >0.142586</td>\n",
              "                        <td id=\"T_2506c3b2_7933_11ec_b217_0242ac1c0002row3_col2\" class=\"data row3 col2\" >0.994757</td>\n",
              "                        <td id=\"T_2506c3b2_7933_11ec_b217_0242ac1c0002row3_col3\" class=\"data row3 col3\" >1.000000</td>\n",
              "                        <td id=\"T_2506c3b2_7933_11ec_b217_0242ac1c0002row3_col4\" class=\"data row3 col4\" >0.335987</td>\n",
              "            </tr>\n",
              "            <tr>\n",
              "                        <th id=\"T_2506c3b2_7933_11ec_b217_0242ac1c0002level0_row4\" class=\"row_heading level0 row4\" >resale_price</th>\n",
              "                        <td id=\"T_2506c3b2_7933_11ec_b217_0242ac1c0002row4_col0\" class=\"data row4 col0\" >-0.096471</td>\n",
              "                        <td id=\"T_2506c3b2_7933_11ec_b217_0242ac1c0002row4_col1\" class=\"data row4 col1\" >0.622548</td>\n",
              "                        <td id=\"T_2506c3b2_7933_11ec_b217_0242ac1c0002row4_col2\" class=\"data row4 col2\" >0.346851</td>\n",
              "                        <td id=\"T_2506c3b2_7933_11ec_b217_0242ac1c0002row4_col3\" class=\"data row4 col3\" >0.335987</td>\n",
              "                        <td id=\"T_2506c3b2_7933_11ec_b217_0242ac1c0002row4_col4\" class=\"data row4 col4\" >1.000000</td>\n",
              "            </tr>\n",
              "    </tbody></table>"
            ],
            "text/plain": [
              "<pandas.io.formats.style.Styler at 0x7fc11d509350>"
            ]
          },
          "metadata": {},
          "execution_count": 121
        }
      ]
    },
    {
      "cell_type": "code",
      "execution_count": 122,
      "metadata": {
        "colab": {
          "base_uri": "https://localhost:8080/",
          "height": 206
        },
        "id": "raQkN4ipBO8e",
        "outputId": "b6d4a5d1-168c-4a94-88db-bce7e96df138"
      },
      "outputs": [
        {
          "output_type": "execute_result",
          "data": {
            "text/html": [
              "\n",
              "  <div id=\"df-27675787-6d36-42ab-8610-1397ba9e878f\">\n",
              "    <div class=\"colab-df-container\">\n",
              "      <div>\n",
              "<style scoped>\n",
              "    .dataframe tbody tr th:only-of-type {\n",
              "        vertical-align: middle;\n",
              "    }\n",
              "\n",
              "    .dataframe tbody tr th {\n",
              "        vertical-align: top;\n",
              "    }\n",
              "\n",
              "    .dataframe thead th {\n",
              "        text-align: right;\n",
              "    }\n",
              "</style>\n",
              "<table border=\"1\" class=\"dataframe\">\n",
              "  <thead>\n",
              "    <tr style=\"text-align: right;\">\n",
              "      <th></th>\n",
              "      <th>month</th>\n",
              "      <th>town</th>\n",
              "      <th>flat_type</th>\n",
              "      <th>storey_range</th>\n",
              "      <th>floor_area_sqm</th>\n",
              "      <th>flat_model</th>\n",
              "      <th>lease_commence_date</th>\n",
              "      <th>resale_price</th>\n",
              "    </tr>\n",
              "  </thead>\n",
              "  <tbody>\n",
              "    <tr>\n",
              "      <th>0</th>\n",
              "      <td>2017-01</td>\n",
              "      <td>ANG MO KIO</td>\n",
              "      <td>2 ROOM</td>\n",
              "      <td>10 TO 12</td>\n",
              "      <td>44.0</td>\n",
              "      <td>Improved</td>\n",
              "      <td>1979</td>\n",
              "      <td>232000.0</td>\n",
              "    </tr>\n",
              "    <tr>\n",
              "      <th>1</th>\n",
              "      <td>2017-01</td>\n",
              "      <td>ANG MO KIO</td>\n",
              "      <td>3 ROOM</td>\n",
              "      <td>01 TO 03</td>\n",
              "      <td>67.0</td>\n",
              "      <td>New Generation</td>\n",
              "      <td>1978</td>\n",
              "      <td>250000.0</td>\n",
              "    </tr>\n",
              "    <tr>\n",
              "      <th>2</th>\n",
              "      <td>2017-01</td>\n",
              "      <td>ANG MO KIO</td>\n",
              "      <td>3 ROOM</td>\n",
              "      <td>01 TO 03</td>\n",
              "      <td>67.0</td>\n",
              "      <td>New Generation</td>\n",
              "      <td>1980</td>\n",
              "      <td>262000.0</td>\n",
              "    </tr>\n",
              "    <tr>\n",
              "      <th>3</th>\n",
              "      <td>2017-01</td>\n",
              "      <td>ANG MO KIO</td>\n",
              "      <td>3 ROOM</td>\n",
              "      <td>04 TO 06</td>\n",
              "      <td>68.0</td>\n",
              "      <td>New Generation</td>\n",
              "      <td>1980</td>\n",
              "      <td>265000.0</td>\n",
              "    </tr>\n",
              "    <tr>\n",
              "      <th>4</th>\n",
              "      <td>2017-01</td>\n",
              "      <td>ANG MO KIO</td>\n",
              "      <td>3 ROOM</td>\n",
              "      <td>01 TO 03</td>\n",
              "      <td>67.0</td>\n",
              "      <td>New Generation</td>\n",
              "      <td>1980</td>\n",
              "      <td>265000.0</td>\n",
              "    </tr>\n",
              "  </tbody>\n",
              "</table>\n",
              "</div>\n",
              "      <button class=\"colab-df-convert\" onclick=\"convertToInteractive('df-27675787-6d36-42ab-8610-1397ba9e878f')\"\n",
              "              title=\"Convert this dataframe to an interactive table.\"\n",
              "              style=\"display:none;\">\n",
              "        \n",
              "  <svg xmlns=\"http://www.w3.org/2000/svg\" height=\"24px\"viewBox=\"0 0 24 24\"\n",
              "       width=\"24px\">\n",
              "    <path d=\"M0 0h24v24H0V0z\" fill=\"none\"/>\n",
              "    <path d=\"M18.56 5.44l.94 2.06.94-2.06 2.06-.94-2.06-.94-.94-2.06-.94 2.06-2.06.94zm-11 1L8.5 8.5l.94-2.06 2.06-.94-2.06-.94L8.5 2.5l-.94 2.06-2.06.94zm10 10l.94 2.06.94-2.06 2.06-.94-2.06-.94-.94-2.06-.94 2.06-2.06.94z\"/><path d=\"M17.41 7.96l-1.37-1.37c-.4-.4-.92-.59-1.43-.59-.52 0-1.04.2-1.43.59L10.3 9.45l-7.72 7.72c-.78.78-.78 2.05 0 2.83L4 21.41c.39.39.9.59 1.41.59.51 0 1.02-.2 1.41-.59l7.78-7.78 2.81-2.81c.8-.78.8-2.07 0-2.86zM5.41 20L4 18.59l7.72-7.72 1.47 1.35L5.41 20z\"/>\n",
              "  </svg>\n",
              "      </button>\n",
              "      \n",
              "  <style>\n",
              "    .colab-df-container {\n",
              "      display:flex;\n",
              "      flex-wrap:wrap;\n",
              "      gap: 12px;\n",
              "    }\n",
              "\n",
              "    .colab-df-convert {\n",
              "      background-color: #E8F0FE;\n",
              "      border: none;\n",
              "      border-radius: 50%;\n",
              "      cursor: pointer;\n",
              "      display: none;\n",
              "      fill: #1967D2;\n",
              "      height: 32px;\n",
              "      padding: 0 0 0 0;\n",
              "      width: 32px;\n",
              "    }\n",
              "\n",
              "    .colab-df-convert:hover {\n",
              "      background-color: #E2EBFA;\n",
              "      box-shadow: 0px 1px 2px rgba(60, 64, 67, 0.3), 0px 1px 3px 1px rgba(60, 64, 67, 0.15);\n",
              "      fill: #174EA6;\n",
              "    }\n",
              "\n",
              "    [theme=dark] .colab-df-convert {\n",
              "      background-color: #3B4455;\n",
              "      fill: #D2E3FC;\n",
              "    }\n",
              "\n",
              "    [theme=dark] .colab-df-convert:hover {\n",
              "      background-color: #434B5C;\n",
              "      box-shadow: 0px 1px 3px 1px rgba(0, 0, 0, 0.15);\n",
              "      filter: drop-shadow(0px 1px 2px rgba(0, 0, 0, 0.3));\n",
              "      fill: #FFFFFF;\n",
              "    }\n",
              "  </style>\n",
              "\n",
              "      <script>\n",
              "        const buttonEl =\n",
              "          document.querySelector('#df-27675787-6d36-42ab-8610-1397ba9e878f button.colab-df-convert');\n",
              "        buttonEl.style.display =\n",
              "          google.colab.kernel.accessAllowed ? 'block' : 'none';\n",
              "\n",
              "        async function convertToInteractive(key) {\n",
              "          const element = document.querySelector('#df-27675787-6d36-42ab-8610-1397ba9e878f');\n",
              "          const dataTable =\n",
              "            await google.colab.kernel.invokeFunction('convertToInteractive',\n",
              "                                                     [key], {});\n",
              "          if (!dataTable) return;\n",
              "\n",
              "          const docLinkHtml = 'Like what you see? Visit the ' +\n",
              "            '<a target=\"_blank\" href=https://colab.research.google.com/notebooks/data_table.ipynb>data table notebook</a>'\n",
              "            + ' to learn more about interactive tables.';\n",
              "          element.innerHTML = '';\n",
              "          dataTable['output_type'] = 'display_data';\n",
              "          await google.colab.output.renderOutput(dataTable, element);\n",
              "          const docLink = document.createElement('div');\n",
              "          docLink.innerHTML = docLinkHtml;\n",
              "          element.appendChild(docLink);\n",
              "        }\n",
              "      </script>\n",
              "    </div>\n",
              "  </div>\n",
              "  "
            ],
            "text/plain": [
              "     month        town  ... lease_commence_date resale_price\n",
              "0  2017-01  ANG MO KIO  ...                1979     232000.0\n",
              "1  2017-01  ANG MO KIO  ...                1978     250000.0\n",
              "2  2017-01  ANG MO KIO  ...                1980     262000.0\n",
              "3  2017-01  ANG MO KIO  ...                1980     265000.0\n",
              "4  2017-01  ANG MO KIO  ...                1980     265000.0\n",
              "\n",
              "[5 rows x 8 columns]"
            ]
          },
          "metadata": {},
          "execution_count": 122
        }
      ],
      "source": [
        "df = df.drop(columns=['remaining_lease', 'block', 'street_name'])\n",
        "df.head()"
      ]
    },
    {
      "cell_type": "markdown",
      "metadata": {
        "id": "BLXR0OfFG84H"
      },
      "source": [
        "#### 3.2 One Hot Encoding"
      ]
    },
    {
      "cell_type": "code",
      "execution_count": 123,
      "metadata": {
        "id": "0YYAlZ3xIjTV"
      },
      "outputs": [],
      "source": [
        "features_df = pd.get_dummies(df, columns=['town', 'flat_type', 'storey_range', 'flat_model'])"
      ]
    },
    {
      "cell_type": "code",
      "execution_count": 124,
      "metadata": {
        "colab": {
          "base_uri": "https://localhost:8080/"
        },
        "id": "Dt1tVvyGI4YQ",
        "outputId": "888c3372-7a03-4a00-f457-f06ed66a9c32"
      },
      "outputs": [
        {
          "output_type": "stream",
          "name": "stdout",
          "text": [
            "Index(['month', 'floor_area_sqm', 'lease_commence_date', 'town_ANG MO KIO',\n",
            "       'town_BEDOK', 'town_BISHAN', 'town_BUKIT BATOK', 'town_BUKIT MERAH',\n",
            "       'town_BUKIT PANJANG', 'town_BUKIT TIMAH', 'town_CENTRAL AREA',\n",
            "       'town_CHOA CHU KANG', 'town_CLEMENTI', 'town_GEYLANG', 'town_HOUGANG',\n",
            "       'town_JURONG EAST', 'town_JURONG WEST', 'town_KALLANG/WHAMPOA',\n",
            "       'town_MARINE PARADE', 'town_PASIR RIS', 'town_PUNGGOL',\n",
            "       'town_QUEENSTOWN', 'town_SEMBAWANG', 'town_SENGKANG', 'town_SERANGOON',\n",
            "       'town_TAMPINES', 'town_TOA PAYOH', 'town_WOODLANDS', 'town_YISHUN',\n",
            "       'flat_type_1 ROOM', 'flat_type_2 ROOM', 'flat_type_3 ROOM',\n",
            "       'flat_type_4 ROOM', 'flat_type_5 ROOM', 'flat_type_EXECUTIVE',\n",
            "       'flat_type_MULTI-GENERATION', 'storey_range_01 TO 03',\n",
            "       'storey_range_04 TO 06', 'storey_range_07 TO 09',\n",
            "       'storey_range_10 TO 12', 'storey_range_13 TO 15',\n",
            "       'storey_range_16 TO 18', 'storey_range_19 TO 21',\n",
            "       'storey_range_22 TO 24', 'storey_range_25 TO 27',\n",
            "       'storey_range_28 TO 30', 'storey_range_31 TO 33',\n",
            "       'storey_range_34 TO 36', 'storey_range_37 TO 39',\n",
            "       'storey_range_40 TO 42', 'storey_range_43 TO 45',\n",
            "       'storey_range_46 TO 48', 'storey_range_49 TO 51', 'flat_model_2-room',\n",
            "       'flat_model_Adjoined flat', 'flat_model_Apartment', 'flat_model_DBSS',\n",
            "       'flat_model_Improved', 'flat_model_Improved-Maisonette',\n",
            "       'flat_model_Maisonette', 'flat_model_Model A',\n",
            "       'flat_model_Model A-Maisonette', 'flat_model_Model A2',\n",
            "       'flat_model_Multi Generation', 'flat_model_New Generation',\n",
            "       'flat_model_Premium Apartment', 'flat_model_Premium Apartment Loft',\n",
            "       'flat_model_Premium Maisonette', 'flat_model_Simplified',\n",
            "       'flat_model_Standard', 'flat_model_Terrace', 'flat_model_Type S1',\n",
            "       'flat_model_Type S2'],\n",
            "      dtype='object')\n"
          ]
        }
      ],
      "source": [
        "del features_df['resale_price']\n",
        "print(features_df.columns)"
      ]
    },
    {
      "cell_type": "code",
      "execution_count": 125,
      "metadata": {
        "colab": {
          "base_uri": "https://localhost:8080/",
          "height": 374
        },
        "id": "Q3BG-bRgTlDt",
        "outputId": "3f844d40-d914-4a5c-cecf-724e24e3dc3e"
      },
      "outputs": [
        {
          "output_type": "execute_result",
          "data": {
            "text/html": [
              "\n",
              "  <div id=\"df-bb9c48fb-422d-4581-b2b4-246158087b45\">\n",
              "    <div class=\"colab-df-container\">\n",
              "      <div>\n",
              "<style scoped>\n",
              "    .dataframe tbody tr th:only-of-type {\n",
              "        vertical-align: middle;\n",
              "    }\n",
              "\n",
              "    .dataframe tbody tr th {\n",
              "        vertical-align: top;\n",
              "    }\n",
              "\n",
              "    .dataframe thead th {\n",
              "        text-align: right;\n",
              "    }\n",
              "</style>\n",
              "<table border=\"1\" class=\"dataframe\">\n",
              "  <thead>\n",
              "    <tr style=\"text-align: right;\">\n",
              "      <th></th>\n",
              "      <th>month</th>\n",
              "      <th>floor_area_sqm</th>\n",
              "      <th>lease_commence_date</th>\n",
              "      <th>town_ANG MO KIO</th>\n",
              "      <th>town_BEDOK</th>\n",
              "      <th>town_BISHAN</th>\n",
              "      <th>town_BUKIT BATOK</th>\n",
              "      <th>town_BUKIT MERAH</th>\n",
              "      <th>town_BUKIT PANJANG</th>\n",
              "      <th>town_BUKIT TIMAH</th>\n",
              "      <th>town_CENTRAL AREA</th>\n",
              "      <th>town_CHOA CHU KANG</th>\n",
              "      <th>town_CLEMENTI</th>\n",
              "      <th>town_GEYLANG</th>\n",
              "      <th>town_HOUGANG</th>\n",
              "      <th>town_JURONG EAST</th>\n",
              "      <th>town_JURONG WEST</th>\n",
              "      <th>town_KALLANG/WHAMPOA</th>\n",
              "      <th>town_MARINE PARADE</th>\n",
              "      <th>town_PASIR RIS</th>\n",
              "      <th>town_PUNGGOL</th>\n",
              "      <th>town_QUEENSTOWN</th>\n",
              "      <th>town_SEMBAWANG</th>\n",
              "      <th>town_SENGKANG</th>\n",
              "      <th>town_SERANGOON</th>\n",
              "      <th>town_TAMPINES</th>\n",
              "      <th>town_TOA PAYOH</th>\n",
              "      <th>town_WOODLANDS</th>\n",
              "      <th>town_YISHUN</th>\n",
              "      <th>flat_type_1 ROOM</th>\n",
              "      <th>flat_type_2 ROOM</th>\n",
              "      <th>flat_type_3 ROOM</th>\n",
              "      <th>flat_type_4 ROOM</th>\n",
              "      <th>flat_type_5 ROOM</th>\n",
              "      <th>flat_type_EXECUTIVE</th>\n",
              "      <th>flat_type_MULTI-GENERATION</th>\n",
              "      <th>storey_range_01 TO 03</th>\n",
              "      <th>storey_range_04 TO 06</th>\n",
              "      <th>storey_range_07 TO 09</th>\n",
              "      <th>storey_range_10 TO 12</th>\n",
              "      <th>storey_range_13 TO 15</th>\n",
              "      <th>storey_range_16 TO 18</th>\n",
              "      <th>storey_range_19 TO 21</th>\n",
              "      <th>storey_range_22 TO 24</th>\n",
              "      <th>storey_range_25 TO 27</th>\n",
              "      <th>storey_range_28 TO 30</th>\n",
              "      <th>storey_range_31 TO 33</th>\n",
              "      <th>storey_range_34 TO 36</th>\n",
              "      <th>storey_range_37 TO 39</th>\n",
              "      <th>storey_range_40 TO 42</th>\n",
              "      <th>storey_range_43 TO 45</th>\n",
              "      <th>storey_range_46 TO 48</th>\n",
              "      <th>storey_range_49 TO 51</th>\n",
              "      <th>flat_model_2-room</th>\n",
              "      <th>flat_model_Adjoined flat</th>\n",
              "      <th>flat_model_Apartment</th>\n",
              "      <th>flat_model_DBSS</th>\n",
              "      <th>flat_model_Improved</th>\n",
              "      <th>flat_model_Improved-Maisonette</th>\n",
              "      <th>flat_model_Maisonette</th>\n",
              "      <th>flat_model_Model A</th>\n",
              "      <th>flat_model_Model A-Maisonette</th>\n",
              "      <th>flat_model_Model A2</th>\n",
              "      <th>flat_model_Multi Generation</th>\n",
              "      <th>flat_model_New Generation</th>\n",
              "      <th>flat_model_Premium Apartment</th>\n",
              "      <th>flat_model_Premium Apartment Loft</th>\n",
              "      <th>flat_model_Premium Maisonette</th>\n",
              "      <th>flat_model_Simplified</th>\n",
              "      <th>flat_model_Standard</th>\n",
              "      <th>flat_model_Terrace</th>\n",
              "      <th>flat_model_Type S1</th>\n",
              "      <th>flat_model_Type S2</th>\n",
              "    </tr>\n",
              "  </thead>\n",
              "  <tbody>\n",
              "    <tr>\n",
              "      <th>0</th>\n",
              "      <td>2017-01</td>\n",
              "      <td>44.0</td>\n",
              "      <td>1979</td>\n",
              "      <td>1</td>\n",
              "      <td>0</td>\n",
              "      <td>0</td>\n",
              "      <td>0</td>\n",
              "      <td>0</td>\n",
              "      <td>0</td>\n",
              "      <td>0</td>\n",
              "      <td>0</td>\n",
              "      <td>0</td>\n",
              "      <td>0</td>\n",
              "      <td>0</td>\n",
              "      <td>0</td>\n",
              "      <td>0</td>\n",
              "      <td>0</td>\n",
              "      <td>0</td>\n",
              "      <td>0</td>\n",
              "      <td>0</td>\n",
              "      <td>0</td>\n",
              "      <td>0</td>\n",
              "      <td>0</td>\n",
              "      <td>0</td>\n",
              "      <td>0</td>\n",
              "      <td>0</td>\n",
              "      <td>0</td>\n",
              "      <td>0</td>\n",
              "      <td>0</td>\n",
              "      <td>0</td>\n",
              "      <td>1</td>\n",
              "      <td>0</td>\n",
              "      <td>0</td>\n",
              "      <td>0</td>\n",
              "      <td>0</td>\n",
              "      <td>0</td>\n",
              "      <td>0</td>\n",
              "      <td>0</td>\n",
              "      <td>0</td>\n",
              "      <td>1</td>\n",
              "      <td>0</td>\n",
              "      <td>0</td>\n",
              "      <td>0</td>\n",
              "      <td>0</td>\n",
              "      <td>0</td>\n",
              "      <td>0</td>\n",
              "      <td>0</td>\n",
              "      <td>0</td>\n",
              "      <td>0</td>\n",
              "      <td>0</td>\n",
              "      <td>0</td>\n",
              "      <td>0</td>\n",
              "      <td>0</td>\n",
              "      <td>0</td>\n",
              "      <td>0</td>\n",
              "      <td>0</td>\n",
              "      <td>0</td>\n",
              "      <td>1</td>\n",
              "      <td>0</td>\n",
              "      <td>0</td>\n",
              "      <td>0</td>\n",
              "      <td>0</td>\n",
              "      <td>0</td>\n",
              "      <td>0</td>\n",
              "      <td>0</td>\n",
              "      <td>0</td>\n",
              "      <td>0</td>\n",
              "      <td>0</td>\n",
              "      <td>0</td>\n",
              "      <td>0</td>\n",
              "      <td>0</td>\n",
              "      <td>0</td>\n",
              "      <td>0</td>\n",
              "    </tr>\n",
              "    <tr>\n",
              "      <th>1</th>\n",
              "      <td>2017-01</td>\n",
              "      <td>67.0</td>\n",
              "      <td>1978</td>\n",
              "      <td>1</td>\n",
              "      <td>0</td>\n",
              "      <td>0</td>\n",
              "      <td>0</td>\n",
              "      <td>0</td>\n",
              "      <td>0</td>\n",
              "      <td>0</td>\n",
              "      <td>0</td>\n",
              "      <td>0</td>\n",
              "      <td>0</td>\n",
              "      <td>0</td>\n",
              "      <td>0</td>\n",
              "      <td>0</td>\n",
              "      <td>0</td>\n",
              "      <td>0</td>\n",
              "      <td>0</td>\n",
              "      <td>0</td>\n",
              "      <td>0</td>\n",
              "      <td>0</td>\n",
              "      <td>0</td>\n",
              "      <td>0</td>\n",
              "      <td>0</td>\n",
              "      <td>0</td>\n",
              "      <td>0</td>\n",
              "      <td>0</td>\n",
              "      <td>0</td>\n",
              "      <td>0</td>\n",
              "      <td>0</td>\n",
              "      <td>1</td>\n",
              "      <td>0</td>\n",
              "      <td>0</td>\n",
              "      <td>0</td>\n",
              "      <td>0</td>\n",
              "      <td>1</td>\n",
              "      <td>0</td>\n",
              "      <td>0</td>\n",
              "      <td>0</td>\n",
              "      <td>0</td>\n",
              "      <td>0</td>\n",
              "      <td>0</td>\n",
              "      <td>0</td>\n",
              "      <td>0</td>\n",
              "      <td>0</td>\n",
              "      <td>0</td>\n",
              "      <td>0</td>\n",
              "      <td>0</td>\n",
              "      <td>0</td>\n",
              "      <td>0</td>\n",
              "      <td>0</td>\n",
              "      <td>0</td>\n",
              "      <td>0</td>\n",
              "      <td>0</td>\n",
              "      <td>0</td>\n",
              "      <td>0</td>\n",
              "      <td>0</td>\n",
              "      <td>0</td>\n",
              "      <td>0</td>\n",
              "      <td>0</td>\n",
              "      <td>0</td>\n",
              "      <td>0</td>\n",
              "      <td>0</td>\n",
              "      <td>1</td>\n",
              "      <td>0</td>\n",
              "      <td>0</td>\n",
              "      <td>0</td>\n",
              "      <td>0</td>\n",
              "      <td>0</td>\n",
              "      <td>0</td>\n",
              "      <td>0</td>\n",
              "      <td>0</td>\n",
              "    </tr>\n",
              "    <tr>\n",
              "      <th>2</th>\n",
              "      <td>2017-01</td>\n",
              "      <td>67.0</td>\n",
              "      <td>1980</td>\n",
              "      <td>1</td>\n",
              "      <td>0</td>\n",
              "      <td>0</td>\n",
              "      <td>0</td>\n",
              "      <td>0</td>\n",
              "      <td>0</td>\n",
              "      <td>0</td>\n",
              "      <td>0</td>\n",
              "      <td>0</td>\n",
              "      <td>0</td>\n",
              "      <td>0</td>\n",
              "      <td>0</td>\n",
              "      <td>0</td>\n",
              "      <td>0</td>\n",
              "      <td>0</td>\n",
              "      <td>0</td>\n",
              "      <td>0</td>\n",
              "      <td>0</td>\n",
              "      <td>0</td>\n",
              "      <td>0</td>\n",
              "      <td>0</td>\n",
              "      <td>0</td>\n",
              "      <td>0</td>\n",
              "      <td>0</td>\n",
              "      <td>0</td>\n",
              "      <td>0</td>\n",
              "      <td>0</td>\n",
              "      <td>0</td>\n",
              "      <td>1</td>\n",
              "      <td>0</td>\n",
              "      <td>0</td>\n",
              "      <td>0</td>\n",
              "      <td>0</td>\n",
              "      <td>1</td>\n",
              "      <td>0</td>\n",
              "      <td>0</td>\n",
              "      <td>0</td>\n",
              "      <td>0</td>\n",
              "      <td>0</td>\n",
              "      <td>0</td>\n",
              "      <td>0</td>\n",
              "      <td>0</td>\n",
              "      <td>0</td>\n",
              "      <td>0</td>\n",
              "      <td>0</td>\n",
              "      <td>0</td>\n",
              "      <td>0</td>\n",
              "      <td>0</td>\n",
              "      <td>0</td>\n",
              "      <td>0</td>\n",
              "      <td>0</td>\n",
              "      <td>0</td>\n",
              "      <td>0</td>\n",
              "      <td>0</td>\n",
              "      <td>0</td>\n",
              "      <td>0</td>\n",
              "      <td>0</td>\n",
              "      <td>0</td>\n",
              "      <td>0</td>\n",
              "      <td>0</td>\n",
              "      <td>0</td>\n",
              "      <td>1</td>\n",
              "      <td>0</td>\n",
              "      <td>0</td>\n",
              "      <td>0</td>\n",
              "      <td>0</td>\n",
              "      <td>0</td>\n",
              "      <td>0</td>\n",
              "      <td>0</td>\n",
              "      <td>0</td>\n",
              "    </tr>\n",
              "    <tr>\n",
              "      <th>3</th>\n",
              "      <td>2017-01</td>\n",
              "      <td>68.0</td>\n",
              "      <td>1980</td>\n",
              "      <td>1</td>\n",
              "      <td>0</td>\n",
              "      <td>0</td>\n",
              "      <td>0</td>\n",
              "      <td>0</td>\n",
              "      <td>0</td>\n",
              "      <td>0</td>\n",
              "      <td>0</td>\n",
              "      <td>0</td>\n",
              "      <td>0</td>\n",
              "      <td>0</td>\n",
              "      <td>0</td>\n",
              "      <td>0</td>\n",
              "      <td>0</td>\n",
              "      <td>0</td>\n",
              "      <td>0</td>\n",
              "      <td>0</td>\n",
              "      <td>0</td>\n",
              "      <td>0</td>\n",
              "      <td>0</td>\n",
              "      <td>0</td>\n",
              "      <td>0</td>\n",
              "      <td>0</td>\n",
              "      <td>0</td>\n",
              "      <td>0</td>\n",
              "      <td>0</td>\n",
              "      <td>0</td>\n",
              "      <td>0</td>\n",
              "      <td>1</td>\n",
              "      <td>0</td>\n",
              "      <td>0</td>\n",
              "      <td>0</td>\n",
              "      <td>0</td>\n",
              "      <td>0</td>\n",
              "      <td>1</td>\n",
              "      <td>0</td>\n",
              "      <td>0</td>\n",
              "      <td>0</td>\n",
              "      <td>0</td>\n",
              "      <td>0</td>\n",
              "      <td>0</td>\n",
              "      <td>0</td>\n",
              "      <td>0</td>\n",
              "      <td>0</td>\n",
              "      <td>0</td>\n",
              "      <td>0</td>\n",
              "      <td>0</td>\n",
              "      <td>0</td>\n",
              "      <td>0</td>\n",
              "      <td>0</td>\n",
              "      <td>0</td>\n",
              "      <td>0</td>\n",
              "      <td>0</td>\n",
              "      <td>0</td>\n",
              "      <td>0</td>\n",
              "      <td>0</td>\n",
              "      <td>0</td>\n",
              "      <td>0</td>\n",
              "      <td>0</td>\n",
              "      <td>0</td>\n",
              "      <td>0</td>\n",
              "      <td>1</td>\n",
              "      <td>0</td>\n",
              "      <td>0</td>\n",
              "      <td>0</td>\n",
              "      <td>0</td>\n",
              "      <td>0</td>\n",
              "      <td>0</td>\n",
              "      <td>0</td>\n",
              "      <td>0</td>\n",
              "    </tr>\n",
              "    <tr>\n",
              "      <th>4</th>\n",
              "      <td>2017-01</td>\n",
              "      <td>67.0</td>\n",
              "      <td>1980</td>\n",
              "      <td>1</td>\n",
              "      <td>0</td>\n",
              "      <td>0</td>\n",
              "      <td>0</td>\n",
              "      <td>0</td>\n",
              "      <td>0</td>\n",
              "      <td>0</td>\n",
              "      <td>0</td>\n",
              "      <td>0</td>\n",
              "      <td>0</td>\n",
              "      <td>0</td>\n",
              "      <td>0</td>\n",
              "      <td>0</td>\n",
              "      <td>0</td>\n",
              "      <td>0</td>\n",
              "      <td>0</td>\n",
              "      <td>0</td>\n",
              "      <td>0</td>\n",
              "      <td>0</td>\n",
              "      <td>0</td>\n",
              "      <td>0</td>\n",
              "      <td>0</td>\n",
              "      <td>0</td>\n",
              "      <td>0</td>\n",
              "      <td>0</td>\n",
              "      <td>0</td>\n",
              "      <td>0</td>\n",
              "      <td>0</td>\n",
              "      <td>1</td>\n",
              "      <td>0</td>\n",
              "      <td>0</td>\n",
              "      <td>0</td>\n",
              "      <td>0</td>\n",
              "      <td>1</td>\n",
              "      <td>0</td>\n",
              "      <td>0</td>\n",
              "      <td>0</td>\n",
              "      <td>0</td>\n",
              "      <td>0</td>\n",
              "      <td>0</td>\n",
              "      <td>0</td>\n",
              "      <td>0</td>\n",
              "      <td>0</td>\n",
              "      <td>0</td>\n",
              "      <td>0</td>\n",
              "      <td>0</td>\n",
              "      <td>0</td>\n",
              "      <td>0</td>\n",
              "      <td>0</td>\n",
              "      <td>0</td>\n",
              "      <td>0</td>\n",
              "      <td>0</td>\n",
              "      <td>0</td>\n",
              "      <td>0</td>\n",
              "      <td>0</td>\n",
              "      <td>0</td>\n",
              "      <td>0</td>\n",
              "      <td>0</td>\n",
              "      <td>0</td>\n",
              "      <td>0</td>\n",
              "      <td>0</td>\n",
              "      <td>1</td>\n",
              "      <td>0</td>\n",
              "      <td>0</td>\n",
              "      <td>0</td>\n",
              "      <td>0</td>\n",
              "      <td>0</td>\n",
              "      <td>0</td>\n",
              "      <td>0</td>\n",
              "      <td>0</td>\n",
              "    </tr>\n",
              "  </tbody>\n",
              "</table>\n",
              "</div>\n",
              "      <button class=\"colab-df-convert\" onclick=\"convertToInteractive('df-bb9c48fb-422d-4581-b2b4-246158087b45')\"\n",
              "              title=\"Convert this dataframe to an interactive table.\"\n",
              "              style=\"display:none;\">\n",
              "        \n",
              "  <svg xmlns=\"http://www.w3.org/2000/svg\" height=\"24px\"viewBox=\"0 0 24 24\"\n",
              "       width=\"24px\">\n",
              "    <path d=\"M0 0h24v24H0V0z\" fill=\"none\"/>\n",
              "    <path d=\"M18.56 5.44l.94 2.06.94-2.06 2.06-.94-2.06-.94-.94-2.06-.94 2.06-2.06.94zm-11 1L8.5 8.5l.94-2.06 2.06-.94-2.06-.94L8.5 2.5l-.94 2.06-2.06.94zm10 10l.94 2.06.94-2.06 2.06-.94-2.06-.94-.94-2.06-.94 2.06-2.06.94z\"/><path d=\"M17.41 7.96l-1.37-1.37c-.4-.4-.92-.59-1.43-.59-.52 0-1.04.2-1.43.59L10.3 9.45l-7.72 7.72c-.78.78-.78 2.05 0 2.83L4 21.41c.39.39.9.59 1.41.59.51 0 1.02-.2 1.41-.59l7.78-7.78 2.81-2.81c.8-.78.8-2.07 0-2.86zM5.41 20L4 18.59l7.72-7.72 1.47 1.35L5.41 20z\"/>\n",
              "  </svg>\n",
              "      </button>\n",
              "      \n",
              "  <style>\n",
              "    .colab-df-container {\n",
              "      display:flex;\n",
              "      flex-wrap:wrap;\n",
              "      gap: 12px;\n",
              "    }\n",
              "\n",
              "    .colab-df-convert {\n",
              "      background-color: #E8F0FE;\n",
              "      border: none;\n",
              "      border-radius: 50%;\n",
              "      cursor: pointer;\n",
              "      display: none;\n",
              "      fill: #1967D2;\n",
              "      height: 32px;\n",
              "      padding: 0 0 0 0;\n",
              "      width: 32px;\n",
              "    }\n",
              "\n",
              "    .colab-df-convert:hover {\n",
              "      background-color: #E2EBFA;\n",
              "      box-shadow: 0px 1px 2px rgba(60, 64, 67, 0.3), 0px 1px 3px 1px rgba(60, 64, 67, 0.15);\n",
              "      fill: #174EA6;\n",
              "    }\n",
              "\n",
              "    [theme=dark] .colab-df-convert {\n",
              "      background-color: #3B4455;\n",
              "      fill: #D2E3FC;\n",
              "    }\n",
              "\n",
              "    [theme=dark] .colab-df-convert:hover {\n",
              "      background-color: #434B5C;\n",
              "      box-shadow: 0px 1px 3px 1px rgba(0, 0, 0, 0.15);\n",
              "      filter: drop-shadow(0px 1px 2px rgba(0, 0, 0, 0.3));\n",
              "      fill: #FFFFFF;\n",
              "    }\n",
              "  </style>\n",
              "\n",
              "      <script>\n",
              "        const buttonEl =\n",
              "          document.querySelector('#df-bb9c48fb-422d-4581-b2b4-246158087b45 button.colab-df-convert');\n",
              "        buttonEl.style.display =\n",
              "          google.colab.kernel.accessAllowed ? 'block' : 'none';\n",
              "\n",
              "        async function convertToInteractive(key) {\n",
              "          const element = document.querySelector('#df-bb9c48fb-422d-4581-b2b4-246158087b45');\n",
              "          const dataTable =\n",
              "            await google.colab.kernel.invokeFunction('convertToInteractive',\n",
              "                                                     [key], {});\n",
              "          if (!dataTable) return;\n",
              "\n",
              "          const docLinkHtml = 'Like what you see? Visit the ' +\n",
              "            '<a target=\"_blank\" href=https://colab.research.google.com/notebooks/data_table.ipynb>data table notebook</a>'\n",
              "            + ' to learn more about interactive tables.';\n",
              "          element.innerHTML = '';\n",
              "          dataTable['output_type'] = 'display_data';\n",
              "          await google.colab.output.renderOutput(dataTable, element);\n",
              "          const docLink = document.createElement('div');\n",
              "          docLink.innerHTML = docLinkHtml;\n",
              "          element.appendChild(docLink);\n",
              "        }\n",
              "      </script>\n",
              "    </div>\n",
              "  </div>\n",
              "  "
            ],
            "text/plain": [
              "     month  floor_area_sqm  ...  flat_model_Type S1  flat_model_Type S2\n",
              "0  2017-01            44.0  ...                   0                   0\n",
              "1  2017-01            67.0  ...                   0                   0\n",
              "2  2017-01            67.0  ...                   0                   0\n",
              "3  2017-01            68.0  ...                   0                   0\n",
              "4  2017-01            67.0  ...                   0                   0\n",
              "\n",
              "[5 rows x 73 columns]"
            ]
          },
          "metadata": {},
          "execution_count": 125
        }
      ],
      "source": [
        "features_df.head()"
      ]
    },
    {
      "cell_type": "markdown",
      "metadata": {
        "id": "oV4RyLGf20gO"
      },
      "source": [
        "#### 3.3 Data Transformation"
      ]
    },
    {
      "cell_type": "markdown",
      "source": [
        "Under the month column, I split the data into month and year of transaction and cast them as integers. "
      ],
      "metadata": {
        "id": "xyWGTjAx1Ghn"
      }
    },
    {
      "cell_type": "code",
      "execution_count": 126,
      "metadata": {
        "id": "oAfKpThhTyWZ"
      },
      "outputs": [],
      "source": [
        "features_df[['year','month']] = df.month.str.split(\"-\",expand=True,)"
      ]
    },
    {
      "cell_type": "code",
      "execution_count": 127,
      "metadata": {
        "id": "LbE3BYrNU9DK"
      },
      "outputs": [],
      "source": [
        "features_df = features_df.astype({'year': 'int32', 'month': 'int32'})"
      ]
    },
    {
      "cell_type": "code",
      "execution_count": 128,
      "metadata": {
        "colab": {
          "base_uri": "https://localhost:8080/"
        },
        "id": "_0qFerMGUYfw",
        "outputId": "25df040a-08c6-4269-e02b-02dfe341ffa2"
      },
      "outputs": [
        {
          "output_type": "execute_result",
          "data": {
            "text/plain": [
              "year     int32\n",
              "month    int32\n",
              "dtype: object"
            ]
          },
          "metadata": {},
          "execution_count": 128
        }
      ],
      "source": [
        "features_df[['year', 'month']].dtypes"
      ]
    },
    {
      "cell_type": "code",
      "execution_count": 133,
      "metadata": {
        "colab": {
          "base_uri": "https://localhost:8080/",
          "height": 206
        },
        "id": "P-qnDg4Bnk2H",
        "outputId": "445ce9b2-fb4f-474e-a688-2608ce429af8"
      },
      "outputs": [
        {
          "output_type": "execute_result",
          "data": {
            "text/html": [
              "\n",
              "  <div id=\"df-580c9c30-e6b7-491b-8775-0c6137aed9f8\">\n",
              "    <div class=\"colab-df-container\">\n",
              "      <div>\n",
              "<style scoped>\n",
              "    .dataframe tbody tr th:only-of-type {\n",
              "        vertical-align: middle;\n",
              "    }\n",
              "\n",
              "    .dataframe tbody tr th {\n",
              "        vertical-align: top;\n",
              "    }\n",
              "\n",
              "    .dataframe thead th {\n",
              "        text-align: right;\n",
              "    }\n",
              "</style>\n",
              "<table border=\"1\" class=\"dataframe\">\n",
              "  <thead>\n",
              "    <tr style=\"text-align: right;\">\n",
              "      <th></th>\n",
              "      <th>year</th>\n",
              "      <th>month</th>\n",
              "    </tr>\n",
              "  </thead>\n",
              "  <tbody>\n",
              "    <tr>\n",
              "      <th>0</th>\n",
              "      <td>2017</td>\n",
              "      <td>1</td>\n",
              "    </tr>\n",
              "    <tr>\n",
              "      <th>1</th>\n",
              "      <td>2017</td>\n",
              "      <td>1</td>\n",
              "    </tr>\n",
              "    <tr>\n",
              "      <th>2</th>\n",
              "      <td>2017</td>\n",
              "      <td>1</td>\n",
              "    </tr>\n",
              "    <tr>\n",
              "      <th>3</th>\n",
              "      <td>2017</td>\n",
              "      <td>1</td>\n",
              "    </tr>\n",
              "    <tr>\n",
              "      <th>4</th>\n",
              "      <td>2017</td>\n",
              "      <td>1</td>\n",
              "    </tr>\n",
              "  </tbody>\n",
              "</table>\n",
              "</div>\n",
              "      <button class=\"colab-df-convert\" onclick=\"convertToInteractive('df-580c9c30-e6b7-491b-8775-0c6137aed9f8')\"\n",
              "              title=\"Convert this dataframe to an interactive table.\"\n",
              "              style=\"display:none;\">\n",
              "        \n",
              "  <svg xmlns=\"http://www.w3.org/2000/svg\" height=\"24px\"viewBox=\"0 0 24 24\"\n",
              "       width=\"24px\">\n",
              "    <path d=\"M0 0h24v24H0V0z\" fill=\"none\"/>\n",
              "    <path d=\"M18.56 5.44l.94 2.06.94-2.06 2.06-.94-2.06-.94-.94-2.06-.94 2.06-2.06.94zm-11 1L8.5 8.5l.94-2.06 2.06-.94-2.06-.94L8.5 2.5l-.94 2.06-2.06.94zm10 10l.94 2.06.94-2.06 2.06-.94-2.06-.94-.94-2.06-.94 2.06-2.06.94z\"/><path d=\"M17.41 7.96l-1.37-1.37c-.4-.4-.92-.59-1.43-.59-.52 0-1.04.2-1.43.59L10.3 9.45l-7.72 7.72c-.78.78-.78 2.05 0 2.83L4 21.41c.39.39.9.59 1.41.59.51 0 1.02-.2 1.41-.59l7.78-7.78 2.81-2.81c.8-.78.8-2.07 0-2.86zM5.41 20L4 18.59l7.72-7.72 1.47 1.35L5.41 20z\"/>\n",
              "  </svg>\n",
              "      </button>\n",
              "      \n",
              "  <style>\n",
              "    .colab-df-container {\n",
              "      display:flex;\n",
              "      flex-wrap:wrap;\n",
              "      gap: 12px;\n",
              "    }\n",
              "\n",
              "    .colab-df-convert {\n",
              "      background-color: #E8F0FE;\n",
              "      border: none;\n",
              "      border-radius: 50%;\n",
              "      cursor: pointer;\n",
              "      display: none;\n",
              "      fill: #1967D2;\n",
              "      height: 32px;\n",
              "      padding: 0 0 0 0;\n",
              "      width: 32px;\n",
              "    }\n",
              "\n",
              "    .colab-df-convert:hover {\n",
              "      background-color: #E2EBFA;\n",
              "      box-shadow: 0px 1px 2px rgba(60, 64, 67, 0.3), 0px 1px 3px 1px rgba(60, 64, 67, 0.15);\n",
              "      fill: #174EA6;\n",
              "    }\n",
              "\n",
              "    [theme=dark] .colab-df-convert {\n",
              "      background-color: #3B4455;\n",
              "      fill: #D2E3FC;\n",
              "    }\n",
              "\n",
              "    [theme=dark] .colab-df-convert:hover {\n",
              "      background-color: #434B5C;\n",
              "      box-shadow: 0px 1px 3px 1px rgba(0, 0, 0, 0.15);\n",
              "      filter: drop-shadow(0px 1px 2px rgba(0, 0, 0, 0.3));\n",
              "      fill: #FFFFFF;\n",
              "    }\n",
              "  </style>\n",
              "\n",
              "      <script>\n",
              "        const buttonEl =\n",
              "          document.querySelector('#df-580c9c30-e6b7-491b-8775-0c6137aed9f8 button.colab-df-convert');\n",
              "        buttonEl.style.display =\n",
              "          google.colab.kernel.accessAllowed ? 'block' : 'none';\n",
              "\n",
              "        async function convertToInteractive(key) {\n",
              "          const element = document.querySelector('#df-580c9c30-e6b7-491b-8775-0c6137aed9f8');\n",
              "          const dataTable =\n",
              "            await google.colab.kernel.invokeFunction('convertToInteractive',\n",
              "                                                     [key], {});\n",
              "          if (!dataTable) return;\n",
              "\n",
              "          const docLinkHtml = 'Like what you see? Visit the ' +\n",
              "            '<a target=\"_blank\" href=https://colab.research.google.com/notebooks/data_table.ipynb>data table notebook</a>'\n",
              "            + ' to learn more about interactive tables.';\n",
              "          element.innerHTML = '';\n",
              "          dataTable['output_type'] = 'display_data';\n",
              "          await google.colab.output.renderOutput(dataTable, element);\n",
              "          const docLink = document.createElement('div');\n",
              "          docLink.innerHTML = docLinkHtml;\n",
              "          element.appendChild(docLink);\n",
              "        }\n",
              "      </script>\n",
              "    </div>\n",
              "  </div>\n",
              "  "
            ],
            "text/plain": [
              "   year  month\n",
              "0  2017      1\n",
              "1  2017      1\n",
              "2  2017      1\n",
              "3  2017      1\n",
              "4  2017      1"
            ]
          },
          "metadata": {},
          "execution_count": 133
        }
      ],
      "source": [
        "features_df[['year', 'month']].head()"
      ]
    },
    {
      "cell_type": "markdown",
      "metadata": {
        "id": "4Iz4-X-gNETe"
      },
      "source": [
        "### 4. Model Selection"
      ]
    },
    {
      "cell_type": "markdown",
      "source": [
        "#### 4.1 Sklearn Gradient Boosting Regressor "
      ],
      "metadata": {
        "id": "uzT7KHMY1-k0"
      }
    },
    {
      "cell_type": "code",
      "execution_count": null,
      "metadata": {
        "id": "bOY33n7IQ2og",
        "colab": {
          "base_uri": "https://localhost:8080/"
        },
        "outputId": "945a5f85-706e-40e0-d79c-cf6a2686fea6"
      },
      "outputs": [
        {
          "output_type": "execute_result",
          "data": {
            "text/plain": [
              "GradientBoostingRegressor()"
            ]
          },
          "metadata": {},
          "execution_count": 23
        }
      ],
      "source": [
        "# Training to model using Gradient Boosting Regressor (Default Parameters)\n",
        "GBR = ensemble.GradientBoostingRegressor()\n",
        "\n",
        "X = features_df.values\n",
        "y = df['resale_price'].values\n",
        "\n",
        "# Split the data set in a training set (70%) and a test set (30%)\n",
        "X_train, X_test, y_train, y_test = train_test_split(X, y, test_size=0.3, random_state=0)\n",
        "GBR.fit(X_train, y_train)"
      ]
    },
    {
      "cell_type": "code",
      "source": [
        "GBR_train = GBR.predict(X_train)                 \n",
        "print('Training MAE: {:,.2f}'.format(mean_absolute_error(y_train, GBR_train)))\n",
        "print('Training R-squared : {:.3f}'.format(r2_score(y_train, GBR_train)))\n",
        "\n",
        "GBR_test = GBR.predict(X_test)\n",
        "print('Test MAE: {:,.2f}'.format(mean_absolute_error(y_test, GBR_test)))\n",
        "print('Test R-squared : {:.3f}'.format(r2_score(y_test, GBR_test)))"
      ],
      "metadata": {
        "colab": {
          "base_uri": "https://localhost:8080/"
        },
        "id": "G8OkCWS0EdPI",
        "outputId": "c8d24397-02e0-41db-9fe1-7dbbd9737881"
      },
      "execution_count": null,
      "outputs": [
        {
          "output_type": "stream",
          "name": "stdout",
          "text": [
            "Training MAE: 43,979.66\n",
            "Training R-squared : 0.856\n",
            "Test MAE: 43,966.47\n",
            "Test R-squared : 0.855\n"
          ]
        }
      ]
    },
    {
      "cell_type": "markdown",
      "source": [
        "#### 4.2 Random Forest Regressor"
      ],
      "metadata": {
        "id": "dXnuWxXo9o9u"
      }
    },
    {
      "cell_type": "code",
      "source": [
        "# Training to model using Random Forest Regressor (Default Parameters)\n",
        "RandomForest = ensemble.RandomForestRegressor()\n",
        "\n",
        "X = features_df.values\n",
        "y = df['resale_price'].values\n",
        "\n",
        "# Split the data set in a training set (70%) and a test set (30%)\n",
        "X_train, X_test, y_train, y_test = train_test_split(X, y, test_size=0.3, random_state=0)\n",
        "RandomForest.fit(X_train, y_train)"
      ],
      "metadata": {
        "colab": {
          "base_uri": "https://localhost:8080/"
        },
        "id": "-BRqZi4v9oKi",
        "outputId": "a49a959b-a1b9-4773-d939-8aece60c9f6c"
      },
      "execution_count": null,
      "outputs": [
        {
          "output_type": "execute_result",
          "data": {
            "text/plain": [
              "RandomForestRegressor()"
            ]
          },
          "metadata": {},
          "execution_count": 23
        }
      ]
    },
    {
      "cell_type": "code",
      "source": [
        "RF_train = RandomForest.predict(X_train)                 \n",
        "print('Training MAE: {:,.2f}'.format(mean_absolute_error(y_train, RF_train)))\n",
        "print('Training R-squared : {:.3f}'.format(r2_score(y_train, RF_train)))\n",
        "\n",
        "RF_test = RandomForest.predict(X_test)\n",
        "print('Test MAE: {:,.2f}'.format(mean_absolute_error(y_test, RF_test)))\n",
        "print('Test R-squared : {:.3f}'.format(r2_score(y_test, RF_test)))"
      ],
      "metadata": {
        "colab": {
          "base_uri": "https://localhost:8080/"
        },
        "id": "1ae_FHwtHlKV",
        "outputId": "cd41a060-0e06-4c06-f9f2-981e64dac5f6"
      },
      "execution_count": null,
      "outputs": [
        {
          "output_type": "stream",
          "name": "stdout",
          "text": [
            "Training MAE: 9,057.40\n",
            "Training R-squared : 0.993\n",
            "Test MAE: 21,052.86\n",
            "Test R-squared : 0.961\n"
          ]
        }
      ]
    },
    {
      "cell_type": "markdown",
      "source": [
        "#### 4.3 Linear Regression "
      ],
      "metadata": {
        "id": "U9xIPHKC1489"
      }
    },
    {
      "cell_type": "code",
      "source": [
        "# Training to model using Random Forest Regressor (Default Parameters)\n",
        "LR = linear_model.LinearRegression()\n",
        "\n",
        "X = features_df.values\n",
        "y = df['resale_price'].values\n",
        "\n",
        "# Split the data set in a training set (70%) and a test set (30%)\n",
        "X_train, X_test, y_train, y_test = train_test_split(X, y, test_size=0.3, random_state=0)\n",
        "LR.fit(X_train, y_train)"
      ],
      "metadata": {
        "colab": {
          "base_uri": "https://localhost:8080/"
        },
        "id": "cAq85TDeIME_",
        "outputId": "1cf7a71e-ee29-4d04-8c60-bd717a1de692"
      },
      "execution_count": null,
      "outputs": [
        {
          "output_type": "execute_result",
          "data": {
            "text/plain": [
              "LinearRegression()"
            ]
          },
          "metadata": {},
          "execution_count": 25
        }
      ]
    },
    {
      "cell_type": "code",
      "source": [
        "LR_train = LR.predict(X_train)                 \n",
        "print('Training MAE: {:,.2f}'.format(mean_absolute_error(y_train, LR_train)))\n",
        "print('Training R-squared : {:.3f}'.format(r2_score(y_train, LR_train)))\n",
        "\n",
        "LR_test = LR.predict(X_test)\n",
        "print('Test MAE: {:,.2f}'.format(mean_absolute_error(y_test, LR_test)))\n",
        "print('Test R-squared : {:.3f}'.format(r2_score(y_test, LR_test)))"
      ],
      "metadata": {
        "colab": {
          "base_uri": "https://localhost:8080/"
        },
        "id": "cg_jfmMPIs1h",
        "outputId": "7e7f41ac-0119-4bd1-adc6-8dcfe12c00ee"
      },
      "execution_count": null,
      "outputs": [
        {
          "output_type": "stream",
          "name": "stdout",
          "text": [
            "Training MAE: 45,636.96\n",
            "Training R-squared : 0.863\n",
            "Test MAE: 45,870.70\n",
            "Test R-squared : 0.860\n"
          ]
        }
      ]
    },
    {
      "cell_type": "markdown",
      "source": [
        "#### 4.4 Decision Tree Regressor"
      ],
      "metadata": {
        "id": "xTa3xpcVJXfW"
      }
    },
    {
      "cell_type": "code",
      "source": [
        "# Training to model using Random Forest Regressor (Default Parameters)\n",
        "DTR = tree.DecisionTreeRegressor()\n",
        "\n",
        "X = features_df.values\n",
        "y = df['resale_price'].values\n",
        "\n",
        "# Split the data set in a training set (70%) and a test set (30%)\n",
        "X_train, X_test, y_train, y_test = train_test_split(X, y, test_size=0.3, random_state=0)\n",
        "DTR.fit(X_train, y_train)"
      ],
      "metadata": {
        "colab": {
          "base_uri": "https://localhost:8080/"
        },
        "id": "RNTr50yhMKYM",
        "outputId": "920f8207-829a-402f-edb8-d4ababa679aa"
      },
      "execution_count": null,
      "outputs": [
        {
          "output_type": "execute_result",
          "data": {
            "text/plain": [
              "DecisionTreeRegressor()"
            ]
          },
          "metadata": {},
          "execution_count": 27
        }
      ]
    },
    {
      "cell_type": "code",
      "source": [
        "DTR_train = LR.predict(X_train)                 \n",
        "print('Training MAE: {:,.2f}'.format(mean_absolute_error(y_train, DTR_train)))\n",
        "print('Training R-squared : {:.3f}'.format(r2_score(y_train, DTR_train)))\n",
        "\n",
        "DTR_test = LR.predict(X_test)\n",
        "print('Test MAE: {:,.2f}'.format(mean_absolute_error(y_test, DTR_test)))\n",
        "print('Test R-squared : {:.3f}'.format(r2_score(y_test, DTR_test)))"
      ],
      "metadata": {
        "colab": {
          "base_uri": "https://localhost:8080/"
        },
        "id": "xWF92NlkMSFT",
        "outputId": "d6f3e528-056f-45bb-9571-df8d5f34a086"
      },
      "execution_count": null,
      "outputs": [
        {
          "output_type": "stream",
          "name": "stdout",
          "text": [
            "Training MAE: 45,636.96\n",
            "Training R-squared : 0.863\n",
            "Test MAE: 45,870.70\n",
            "Test R-squared : 0.860\n"
          ]
        }
      ]
    },
    {
      "cell_type": "markdown",
      "source": [
        "#### 5. Hyperparameter Tuning"
      ],
      "metadata": {
        "id": "-eHQ9IyrACyB"
      }
    },
    {
      "cell_type": "markdown",
      "source": [
        "Abandoned GridSearch as it was taking too long and exceeded the runtime limit on Google Colab despite upgrading to a Pro+ account. "
      ],
      "metadata": {
        "id": "-PPrz8Te2HlL"
      }
    },
    {
      "cell_type": "code",
      "execution_count": null,
      "metadata": {
        "id": "v4rcUj1dYno2"
      },
      "outputs": [],
      "source": [
        "# Define the grid search we want to run. Run it with four cpus in parallel.\n",
        "# gs_cv = GridSearchCV(model, param_grid, n_jobs=-1, verbose=3)\n",
        "# gs_cv.fit(X_train, y_train)"
      ]
    },
    {
      "cell_type": "markdown",
      "source": [
        "Used RandomSearchCV instead. Total training time was approximately 10 hours. "
      ],
      "metadata": {
        "id": "zHaaMLeT2TbV"
      }
    },
    {
      "cell_type": "markdown",
      "source": [
        "##### 5.1 Random Forest Tuning"
      ],
      "metadata": {
        "id": "q0adxNuy_ffe"
      }
    },
    {
      "cell_type": "code",
      "source": [
        "model = ensemble.RandomForestRegressor()\n",
        "param_grid = {\n",
        "    'n_estimators' : [200,500,1000],\n",
        "    'min_samples_split': [2, 5, 10],\n",
        "    'min_samples_leaf': [1, 2, 4],\n",
        "    'max_features': ['auto', 'sqrt'],\n",
        "    'max_features': ['auto','sqrt','log2'],\n",
        "    'max_depth': [10, 50, 100, None],\n",
        "    'bootstrap': [True, False]\n",
        "}"
      ],
      "metadata": {
        "id": "i6Zf_gCuaQJa"
      },
      "execution_count": null,
      "outputs": []
    },
    {
      "cell_type": "code",
      "execution_count": null,
      "metadata": {
        "colab": {
          "base_uri": "https://localhost:8080/"
        },
        "id": "nN3169JAvWdL",
        "outputId": "997decf4-56a8-41b0-8ec8-eaef93893806"
      },
      "outputs": [
        {
          "output_type": "stream",
          "name": "stdout",
          "text": [
            "Fitting 5 folds for each of 20 candidates, totalling 100 fits\n",
            "[CV 1/5] END bootstrap=False, max_depth=None, max_features=log2, min_samples_leaf=2, min_samples_split=5, n_estimators=1000;, score=0.946 total time= 2.0min\n",
            "[CV 2/5] END bootstrap=False, max_depth=None, max_features=log2, min_samples_leaf=2, min_samples_split=5, n_estimators=1000;, score=0.946 total time= 2.4min\n",
            "[CV 3/5] END bootstrap=False, max_depth=None, max_features=log2, min_samples_leaf=2, min_samples_split=5, n_estimators=1000;, score=0.947 total time= 2.6min\n",
            "[CV 4/5] END bootstrap=False, max_depth=None, max_features=log2, min_samples_leaf=2, min_samples_split=5, n_estimators=1000;, score=0.946 total time= 2.7min\n",
            "[CV 5/5] END bootstrap=False, max_depth=None, max_features=log2, min_samples_leaf=2, min_samples_split=5, n_estimators=1000;, score=0.947 total time= 2.6min\n",
            "[CV 1/5] END bootstrap=True, max_depth=100, max_features=log2, min_samples_leaf=1, min_samples_split=5, n_estimators=500;, score=0.951 total time=  54.3s\n",
            "[CV 2/5] END bootstrap=True, max_depth=100, max_features=log2, min_samples_leaf=1, min_samples_split=5, n_estimators=500;, score=0.951 total time=  54.1s\n",
            "[CV 3/5] END bootstrap=True, max_depth=100, max_features=log2, min_samples_leaf=1, min_samples_split=5, n_estimators=500;, score=0.951 total time=  55.0s\n",
            "[CV 4/5] END bootstrap=True, max_depth=100, max_features=log2, min_samples_leaf=1, min_samples_split=5, n_estimators=500;, score=0.951 total time=  54.4s\n",
            "[CV 5/5] END bootstrap=True, max_depth=100, max_features=log2, min_samples_leaf=1, min_samples_split=5, n_estimators=500;, score=0.952 total time=  49.3s\n",
            "[CV 1/5] END bootstrap=False, max_depth=None, max_features=auto, min_samples_leaf=4, min_samples_split=10, n_estimators=1000;, score=0.938 total time=10.0min\n",
            "[CV 2/5] END bootstrap=False, max_depth=None, max_features=auto, min_samples_leaf=4, min_samples_split=10, n_estimators=1000;, score=0.940 total time=10.4min\n",
            "[CV 3/5] END bootstrap=False, max_depth=None, max_features=auto, min_samples_leaf=4, min_samples_split=10, n_estimators=1000;, score=0.940 total time=12.2min\n",
            "[CV 4/5] END bootstrap=False, max_depth=None, max_features=auto, min_samples_leaf=4, min_samples_split=10, n_estimators=1000;, score=0.939 total time=11.2min\n",
            "[CV 5/5] END bootstrap=False, max_depth=None, max_features=auto, min_samples_leaf=4, min_samples_split=10, n_estimators=1000;, score=0.940 total time=11.8min\n",
            "[CV 1/5] END bootstrap=False, max_depth=50, max_features=auto, min_samples_leaf=4, min_samples_split=10, n_estimators=200;, score=0.938 total time= 2.9min\n",
            "[CV 2/5] END bootstrap=False, max_depth=50, max_features=auto, min_samples_leaf=4, min_samples_split=10, n_estimators=200;, score=0.940 total time= 2.9min\n",
            "[CV 3/5] END bootstrap=False, max_depth=50, max_features=auto, min_samples_leaf=4, min_samples_split=10, n_estimators=200;, score=0.940 total time= 2.9min\n",
            "[CV 4/5] END bootstrap=False, max_depth=50, max_features=auto, min_samples_leaf=4, min_samples_split=10, n_estimators=200;, score=0.939 total time= 2.9min\n",
            "[CV 5/5] END bootstrap=False, max_depth=50, max_features=auto, min_samples_leaf=4, min_samples_split=10, n_estimators=200;, score=0.940 total time= 2.5min\n",
            "[CV 1/5] END bootstrap=True, max_depth=10, max_features=log2, min_samples_leaf=4, min_samples_split=2, n_estimators=200;, score=0.716 total time=   7.3s\n",
            "[CV 2/5] END bootstrap=True, max_depth=10, max_features=log2, min_samples_leaf=4, min_samples_split=2, n_estimators=200;, score=0.721 total time=   9.2s\n",
            "[CV 3/5] END bootstrap=True, max_depth=10, max_features=log2, min_samples_leaf=4, min_samples_split=2, n_estimators=200;, score=0.716 total time=   9.1s\n",
            "[CV 4/5] END bootstrap=True, max_depth=10, max_features=log2, min_samples_leaf=4, min_samples_split=2, n_estimators=200;, score=0.711 total time=   9.1s\n",
            "[CV 5/5] END bootstrap=True, max_depth=10, max_features=log2, min_samples_leaf=4, min_samples_split=2, n_estimators=200;, score=0.710 total time=   7.3s\n",
            "[CV 1/5] END bootstrap=False, max_depth=50, max_features=sqrt, min_samples_leaf=2, min_samples_split=10, n_estimators=500;, score=0.949 total time= 1.1min\n",
            "[CV 2/5] END bootstrap=False, max_depth=50, max_features=sqrt, min_samples_leaf=2, min_samples_split=10, n_estimators=500;, score=0.949 total time= 1.4min\n",
            "[CV 3/5] END bootstrap=False, max_depth=50, max_features=sqrt, min_samples_leaf=2, min_samples_split=10, n_estimators=500;, score=0.949 total time= 1.5min\n",
            "[CV 4/5] END bootstrap=False, max_depth=50, max_features=sqrt, min_samples_leaf=2, min_samples_split=10, n_estimators=500;, score=0.948 total time= 1.4min\n",
            "[CV 5/5] END bootstrap=False, max_depth=50, max_features=sqrt, min_samples_leaf=2, min_samples_split=10, n_estimators=500;, score=0.949 total time= 1.4min\n",
            "[CV 1/5] END bootstrap=True, max_depth=100, max_features=auto, min_samples_leaf=4, min_samples_split=2, n_estimators=500;, score=0.953 total time= 4.6min\n",
            "[CV 2/5] END bootstrap=True, max_depth=100, max_features=auto, min_samples_leaf=4, min_samples_split=2, n_estimators=500;, score=0.952 total time= 4.7min\n",
            "[CV 3/5] END bootstrap=True, max_depth=100, max_features=auto, min_samples_leaf=4, min_samples_split=2, n_estimators=500;, score=0.952 total time= 4.3min\n",
            "[CV 4/5] END bootstrap=True, max_depth=100, max_features=auto, min_samples_leaf=4, min_samples_split=2, n_estimators=500;, score=0.952 total time= 4.7min\n",
            "[CV 5/5] END bootstrap=True, max_depth=100, max_features=auto, min_samples_leaf=4, min_samples_split=2, n_estimators=500;, score=0.953 total time= 4.7min\n",
            "[CV 1/5] END bootstrap=True, max_depth=50, max_features=sqrt, min_samples_leaf=4, min_samples_split=5, n_estimators=1000;, score=0.932 total time= 1.3min\n",
            "[CV 2/5] END bootstrap=True, max_depth=50, max_features=sqrt, min_samples_leaf=4, min_samples_split=5, n_estimators=1000;, score=0.932 total time= 1.6min\n",
            "[CV 3/5] END bootstrap=True, max_depth=50, max_features=sqrt, min_samples_leaf=4, min_samples_split=5, n_estimators=1000;, score=0.932 total time= 1.7min\n",
            "[CV 4/5] END bootstrap=True, max_depth=50, max_features=sqrt, min_samples_leaf=4, min_samples_split=5, n_estimators=1000;, score=0.931 total time= 1.7min\n",
            "[CV 5/5] END bootstrap=True, max_depth=50, max_features=sqrt, min_samples_leaf=4, min_samples_split=5, n_estimators=1000;, score=0.931 total time= 1.7min\n",
            "[CV 1/5] END bootstrap=True, max_depth=100, max_features=log2, min_samples_leaf=2, min_samples_split=10, n_estimators=200;, score=0.935 total time=  18.8s\n",
            "[CV 2/5] END bootstrap=True, max_depth=100, max_features=log2, min_samples_leaf=2, min_samples_split=10, n_estimators=200;, score=0.936 total time=  19.1s\n",
            "[CV 3/5] END bootstrap=True, max_depth=100, max_features=log2, min_samples_leaf=2, min_samples_split=10, n_estimators=200;, score=0.936 total time=  18.7s\n",
            "[CV 4/5] END bootstrap=True, max_depth=100, max_features=log2, min_samples_leaf=2, min_samples_split=10, n_estimators=200;, score=0.934 total time=  18.7s\n",
            "[CV 5/5] END bootstrap=True, max_depth=100, max_features=log2, min_samples_leaf=2, min_samples_split=10, n_estimators=200;, score=0.936 total time=  18.8s\n",
            "[CV 1/5] END bootstrap=True, max_depth=None, max_features=sqrt, min_samples_leaf=1, min_samples_split=10, n_estimators=500;, score=0.950 total time=  57.3s\n",
            "[CV 2/5] END bootstrap=True, max_depth=None, max_features=sqrt, min_samples_leaf=1, min_samples_split=10, n_estimators=500;, score=0.949 total time=  45.7s\n",
            "[CV 3/5] END bootstrap=True, max_depth=None, max_features=sqrt, min_samples_leaf=1, min_samples_split=10, n_estimators=500;, score=0.949 total time=  57.3s\n",
            "[CV 4/5] END bootstrap=True, max_depth=None, max_features=sqrt, min_samples_leaf=1, min_samples_split=10, n_estimators=500;, score=0.949 total time=  59.2s\n",
            "[CV 5/5] END bootstrap=True, max_depth=None, max_features=sqrt, min_samples_leaf=1, min_samples_split=10, n_estimators=500;, score=0.950 total time=  58.0s\n",
            "[CV 1/5] END bootstrap=False, max_depth=None, max_features=sqrt, min_samples_leaf=2, min_samples_split=2, n_estimators=1000;, score=0.951 total time= 3.3min\n",
            "[CV 2/5] END bootstrap=False, max_depth=None, max_features=sqrt, min_samples_leaf=2, min_samples_split=2, n_estimators=1000;, score=0.951 total time= 3.4min\n",
            "[CV 3/5] END bootstrap=False, max_depth=None, max_features=sqrt, min_samples_leaf=2, min_samples_split=2, n_estimators=1000;, score=0.952 total time= 2.9min\n",
            "[CV 4/5] END bootstrap=False, max_depth=None, max_features=sqrt, min_samples_leaf=2, min_samples_split=2, n_estimators=1000;, score=0.951 total time= 3.5min\n",
            "[CV 5/5] END bootstrap=False, max_depth=None, max_features=sqrt, min_samples_leaf=2, min_samples_split=2, n_estimators=1000;, score=0.952 total time= 2.7min\n",
            "[CV 1/5] END bootstrap=True, max_depth=None, max_features=sqrt, min_samples_leaf=2, min_samples_split=2, n_estimators=1000;, score=0.946 total time= 1.7min\n",
            "[CV 2/5] END bootstrap=True, max_depth=None, max_features=sqrt, min_samples_leaf=2, min_samples_split=2, n_estimators=1000;, score=0.946 total time= 2.1min\n",
            "[CV 3/5] END bootstrap=True, max_depth=None, max_features=sqrt, min_samples_leaf=2, min_samples_split=2, n_estimators=1000;, score=0.946 total time= 2.0min\n",
            "[CV 4/5] END bootstrap=True, max_depth=None, max_features=sqrt, min_samples_leaf=2, min_samples_split=2, n_estimators=1000;, score=0.945 total time= 2.0min\n",
            "[CV 5/5] END bootstrap=True, max_depth=None, max_features=sqrt, min_samples_leaf=2, min_samples_split=2, n_estimators=1000;, score=0.946 total time= 2.0min\n",
            "[CV 1/5] END bootstrap=True, max_depth=None, max_features=auto, min_samples_leaf=1, min_samples_split=10, n_estimators=200;, score=0.957 total time= 1.9min\n",
            "[CV 2/5] END bootstrap=True, max_depth=None, max_features=auto, min_samples_leaf=1, min_samples_split=10, n_estimators=200;, score=0.957 total time= 1.9min\n",
            "[CV 3/5] END bootstrap=True, max_depth=None, max_features=auto, min_samples_leaf=1, min_samples_split=10, n_estimators=200;, score=0.957 total time= 1.9min\n",
            "[CV 4/5] END bootstrap=True, max_depth=None, max_features=auto, min_samples_leaf=1, min_samples_split=10, n_estimators=200;, score=0.957 total time= 1.9min\n",
            "[CV 5/5] END bootstrap=True, max_depth=None, max_features=auto, min_samples_leaf=1, min_samples_split=10, n_estimators=200;, score=0.958 total time= 1.9min\n",
            "[CV 1/5] END bootstrap=True, max_depth=50, max_features=auto, min_samples_leaf=1, min_samples_split=2, n_estimators=200;, score=0.958 total time= 1.7min\n",
            "[CV 2/5] END bootstrap=True, max_depth=50, max_features=auto, min_samples_leaf=1, min_samples_split=2, n_estimators=200;, score=0.958 total time= 1.6min\n",
            "[CV 3/5] END bootstrap=True, max_depth=50, max_features=auto, min_samples_leaf=1, min_samples_split=2, n_estimators=200;, score=0.958 total time= 1.6min\n",
            "[CV 4/5] END bootstrap=True, max_depth=50, max_features=auto, min_samples_leaf=1, min_samples_split=2, n_estimators=200;, score=0.958 total time= 1.6min\n",
            "[CV 5/5] END bootstrap=True, max_depth=50, max_features=auto, min_samples_leaf=1, min_samples_split=2, n_estimators=200;, score=0.959 total time= 1.7min\n",
            "[CV 1/5] END bootstrap=False, max_depth=50, max_features=log2, min_samples_leaf=1, min_samples_split=5, n_estimators=500;, score=0.955 total time= 1.4min\n",
            "[CV 2/5] END bootstrap=False, max_depth=50, max_features=log2, min_samples_leaf=1, min_samples_split=5, n_estimators=500;, score=0.955 total time= 1.4min\n",
            "[CV 3/5] END bootstrap=False, max_depth=50, max_features=log2, min_samples_leaf=1, min_samples_split=5, n_estimators=500;, score=0.955 total time= 1.4min\n",
            "[CV 4/5] END bootstrap=False, max_depth=50, max_features=log2, min_samples_leaf=1, min_samples_split=5, n_estimators=500;, score=0.955 total time= 1.4min\n",
            "[CV 5/5] END bootstrap=False, max_depth=50, max_features=log2, min_samples_leaf=1, min_samples_split=5, n_estimators=500;, score=0.955 total time= 1.4min\n",
            "[CV 1/5] END bootstrap=True, max_depth=None, max_features=auto, min_samples_leaf=1, min_samples_split=5, n_estimators=500;, score=0.958 total time= 3.8min\n",
            "[CV 2/5] END bootstrap=True, max_depth=None, max_features=auto, min_samples_leaf=1, min_samples_split=5, n_estimators=500;, score=0.958 total time= 3.8min\n",
            "[CV 3/5] END bootstrap=True, max_depth=None, max_features=auto, min_samples_leaf=1, min_samples_split=5, n_estimators=500;, score=0.958 total time= 3.8min\n",
            "[CV 4/5] END bootstrap=True, max_depth=None, max_features=auto, min_samples_leaf=1, min_samples_split=5, n_estimators=500;, score=0.958 total time= 3.8min\n",
            "[CV 5/5] END bootstrap=True, max_depth=None, max_features=auto, min_samples_leaf=1, min_samples_split=5, n_estimators=500;, score=0.960 total time= 3.8min\n",
            "[CV 1/5] END bootstrap=False, max_depth=10, max_features=sqrt, min_samples_leaf=2, min_samples_split=2, n_estimators=1000;, score=0.750 total time= 1.4min\n",
            "[CV 2/5] END bootstrap=False, max_depth=10, max_features=sqrt, min_samples_leaf=2, min_samples_split=2, n_estimators=1000;, score=0.754 total time= 1.5min\n",
            "[CV 3/5] END bootstrap=False, max_depth=10, max_features=sqrt, min_samples_leaf=2, min_samples_split=2, n_estimators=1000;, score=0.753 total time= 1.6min\n",
            "[CV 4/5] END bootstrap=False, max_depth=10, max_features=sqrt, min_samples_leaf=2, min_samples_split=2, n_estimators=1000;, score=0.750 total time= 1.6min\n",
            "[CV 5/5] END bootstrap=False, max_depth=10, max_features=sqrt, min_samples_leaf=2, min_samples_split=2, n_estimators=1000;, score=0.747 total time= 1.5min\n",
            "[CV 1/5] END bootstrap=False, max_depth=None, max_features=sqrt, min_samples_leaf=1, min_samples_split=5, n_estimators=500;, score=0.956 total time= 1.7min\n",
            "[CV 2/5] END bootstrap=False, max_depth=None, max_features=sqrt, min_samples_leaf=1, min_samples_split=5, n_estimators=500;, score=0.956 total time= 1.6min\n",
            "[CV 3/5] END bootstrap=False, max_depth=None, max_features=sqrt, min_samples_leaf=1, min_samples_split=5, n_estimators=500;, score=0.956 total time= 1.7min\n",
            "[CV 4/5] END bootstrap=False, max_depth=None, max_features=sqrt, min_samples_leaf=1, min_samples_split=5, n_estimators=500;, score=0.956 total time= 1.5min\n",
            "[CV 5/5] END bootstrap=False, max_depth=None, max_features=sqrt, min_samples_leaf=1, min_samples_split=5, n_estimators=500;, score=0.957 total time= 1.5min\n",
            "[CV 1/5] END bootstrap=True, max_depth=10, max_features=log2, min_samples_leaf=2, min_samples_split=10, n_estimators=200;, score=0.715 total time=   8.2s\n",
            "[CV 2/5] END bootstrap=True, max_depth=10, max_features=log2, min_samples_leaf=2, min_samples_split=10, n_estimators=200;, score=0.716 total time=   8.2s\n",
            "[CV 3/5] END bootstrap=True, max_depth=10, max_features=log2, min_samples_leaf=2, min_samples_split=10, n_estimators=200;, score=0.712 total time=   8.4s\n",
            "[CV 4/5] END bootstrap=True, max_depth=10, max_features=log2, min_samples_leaf=2, min_samples_split=10, n_estimators=200;, score=0.712 total time=   8.3s\n",
            "[CV 5/5] END bootstrap=True, max_depth=10, max_features=log2, min_samples_leaf=2, min_samples_split=10, n_estimators=200;, score=0.711 total time=   8.0s\n",
            "[CV 1/5] END bootstrap=True, max_depth=10, max_features=auto, min_samples_leaf=2, min_samples_split=2, n_estimators=500;, score=0.829 total time= 2.0min\n",
            "[CV 2/5] END bootstrap=True, max_depth=10, max_features=auto, min_samples_leaf=2, min_samples_split=2, n_estimators=500;, score=0.826 total time= 2.0min\n",
            "[CV 3/5] END bootstrap=True, max_depth=10, max_features=auto, min_samples_leaf=2, min_samples_split=2, n_estimators=500;, score=0.834 total time= 2.6min\n",
            "[CV 4/5] END bootstrap=True, max_depth=10, max_features=auto, min_samples_leaf=2, min_samples_split=2, n_estimators=500;, score=0.825 total time= 2.6min\n",
            "[CV 5/5] END bootstrap=True, max_depth=10, max_features=auto, min_samples_leaf=2, min_samples_split=2, n_estimators=500;, score=0.824 total time= 2.5min\n"
          ]
        },
        {
          "output_type": "execute_result",
          "data": {
            "text/plain": [
              "RandomizedSearchCV(estimator=RandomForestRegressor(), n_iter=20,\n",
              "                   param_distributions={'bootstrap': [True, False],\n",
              "                                        'max_depth': [10, 50, 100, None],\n",
              "                                        'max_features': ['auto', 'sqrt',\n",
              "                                                         'log2'],\n",
              "                                        'min_samples_leaf': [1, 2, 4],\n",
              "                                        'min_samples_split': [2, 5, 10],\n",
              "                                        'n_estimators': [200, 500, 1000]},\n",
              "                   random_state=42, verbose=3)"
            ]
          },
          "metadata": {},
          "execution_count": 31
        }
      ],
      "source": [
        "ht_model = RandomizedSearchCV(model, param_grid, n_iter = 20, verbose=3, random_state=42)\n",
        "ht_model.fit(X_train, y_train)"
      ]
    },
    {
      "cell_type": "code",
      "source": [
        "print(ht_model.best_params_)"
      ],
      "metadata": {
        "colab": {
          "base_uri": "https://localhost:8080/"
        },
        "id": "WiX3LIIwcIGd",
        "outputId": "6365bf7e-6762-4f08-c2be-506f4cf5dc80"
      },
      "execution_count": null,
      "outputs": [
        {
          "output_type": "stream",
          "name": "stdout",
          "text": [
            "{'n_estimators': 500, 'min_samples_split': 5, 'min_samples_leaf': 1, 'max_features': 'auto', 'max_depth': None, 'bootstrap': True}\n"
          ]
        }
      ]
    },
    {
      "cell_type": "code",
      "source": [
        "# Training to model using Random Forest Regressor (Default Parameters)\n",
        "RandomForest_Tuned = ensemble.RandomForestRegressor(n_estimators=500, min_samples_split=5, min_samples_leaf=1, max_features='auto', max_depth=None, bootstrap=True)\n",
        "\n",
        "X = features_df.values\n",
        "y = df['resale_price'].values\n",
        "\n",
        "# Split the data set in a training set (70%) and a test set (30%)\n",
        "X_train, X_test, y_train, y_test = train_test_split(X, y, test_size=0.3, random_state=0)\n",
        "RandomForest_Tuned.fit(X_train, y_train)"
      ],
      "metadata": {
        "colab": {
          "base_uri": "https://localhost:8080/"
        },
        "id": "9mDutOU-9R_E",
        "outputId": "caad0bc8-d205-46d6-a8c1-a3cb4c4cffa7"
      },
      "execution_count": null,
      "outputs": [
        {
          "output_type": "execute_result",
          "data": {
            "text/plain": [
              "RandomForestRegressor(min_samples_split=5, n_estimators=500)"
            ]
          },
          "metadata": {},
          "execution_count": 35
        }
      ]
    },
    {
      "cell_type": "code",
      "source": [
        "RFT_train = RandomForest_Tuned.predict(X_train)                 \n",
        "print('Training MAE: {:,.2f}'.format(mean_absolute_error(y_train, RFT_train)))\n",
        "print('Training R-squared : {:.3f}'.format(r2_score(y_train, RFT_train)))\n",
        "\n",
        "RFT_test = RandomForest_Tuned.predict(X_test)\n",
        "print('Test MAE: {:,.2f}'.format(mean_absolute_error(y_test, RFT_test)))\n",
        "print('Test R-squared : {:.3f}'.format(r2_score(y_test, RFT_test)))"
      ],
      "metadata": {
        "colab": {
          "base_uri": "https://localhost:8080/"
        },
        "id": "GwNnycVM9jyo",
        "outputId": "a21d1679-3007-4b79-e7cf-2119792e04e5"
      },
      "execution_count": null,
      "outputs": [
        {
          "output_type": "stream",
          "name": "stdout",
          "text": [
            "Training MAE: 12,181.75\n",
            "Training R-squared : 0.988\n",
            "Test MAE: 21,350.58\n",
            "Test R-squared : 0.962\n"
          ]
        }
      ]
    },
    {
      "cell_type": "code",
      "source": [
        "feature_labels = ['month', 'floor_area_sqm', 'lease_commence_date', 'town_ANG MO KIO',\n",
        "       'town_BEDOK', 'town_BISHAN', 'town_BUKIT BATOK', 'town_BUKIT MERAH',\n",
        "       'town_BUKIT PANJANG', 'town_BUKIT TIMAH', 'town_CENTRAL AREA',\n",
        "       'town_CHOA CHU KANG', 'town_CLEMENTI', 'town_GEYLANG', 'town_HOUGANG',\n",
        "       'town_JURONG EAST', 'town_JURONG WEST', 'town_KALLANG/WHAMPOA',\n",
        "       'town_MARINE PARADE', 'town_PASIR RIS', 'town_PUNGGOL',\n",
        "       'town_QUEENSTOWN', 'town_SEMBAWANG', 'town_SENGKANG', 'town_SERANGOON',\n",
        "       'town_TAMPINES', 'town_TOA PAYOH', 'town_WOODLANDS', 'town_YISHUN',\n",
        "       'flat_type_1 ROOM', 'flat_type_2 ROOM', 'flat_type_3 ROOM',\n",
        "       'flat_type_4 ROOM', 'flat_type_5 ROOM', 'flat_type_EXECUTIVE',\n",
        "       'flat_type_MULTI-GENERATION', 'storey_range_01 TO 03',\n",
        "       'storey_range_04 TO 06', 'storey_range_07 TO 09',\n",
        "       'storey_range_10 TO 12', 'storey_range_13 TO 15',\n",
        "       'storey_range_16 TO 18', 'storey_range_19 TO 21',\n",
        "       'storey_range_22 TO 24', 'storey_range_25 TO 27',\n",
        "       'storey_range_28 TO 30', 'storey_range_31 TO 33',\n",
        "       'storey_range_34 TO 36', 'storey_range_37 TO 39',\n",
        "       'storey_range_40 TO 42', 'storey_range_43 TO 45',\n",
        "       'storey_range_46 TO 48', 'storey_range_49 TO 51', 'flat_model_2-room',\n",
        "       'flat_model_Adjoined flat', 'flat_model_Apartment', 'flat_model_DBSS',\n",
        "       'flat_model_Improved', 'flat_model_Improved-Maisonette',\n",
        "       'flat_model_Maisonette', 'flat_model_Model A',\n",
        "       'flat_model_Model A-Maisonette', 'flat_model_Model A2',\n",
        "       'flat_model_Multi Generation', 'flat_model_New Generation',\n",
        "       'flat_model_Premium Apartment', 'flat_model_Premium Apartment Loft',\n",
        "       'flat_model_Premium Maisonette', 'flat_model_Simplified',\n",
        "       'flat_model_Standard', 'flat_model_Terrace', 'flat_model_Type S1',\n",
        "       'flat_model_Type S2','year']\n",
        "importance = RandomForest_Tuned.feature_importances_       \n",
        "feature_indexes_by_importance = importance.argsort()\n",
        "\n",
        "# Print each feature label, from most important to least important (reverse order)\n",
        "for i in reversed(feature_indexes_by_importance[-5:]):\n",
        "    print(\"{} - {:.2f}%\".format(feature_labels[i], (importance[i] * 100.0)))"
      ],
      "metadata": {
        "colab": {
          "base_uri": "https://localhost:8080/"
        },
        "id": "dUk_gVjF-_vK",
        "outputId": "c37b6652-bb4f-41f5-d150-9f841c20f2f1"
      },
      "execution_count": null,
      "outputs": [
        {
          "output_type": "stream",
          "name": "stdout",
          "text": [
            "floor_area_sqm - 37.10%\n",
            "lease_commence_date - 13.26%\n",
            "flat_type_4 ROOM - 10.80%\n",
            "town_BUKIT MERAH - 5.36%\n",
            "town_QUEENSTOWN - 4.56%\n"
          ]
        }
      ]
    },
    {
      "cell_type": "markdown",
      "source": [
        "RandomForest did not show much improvement after hyperparameter tuning. Training data is almost perfect at 99% suggesting the data may have overfitting."
      ],
      "metadata": {
        "id": "hFjVzolgE2fP"
      }
    },
    {
      "cell_type": "markdown",
      "source": [
        "##### 5.2 Gradient Boosting Regressor Tuning"
      ],
      "metadata": {
        "id": "g1Du8ICR_myc"
      }
    },
    {
      "cell_type": "code",
      "source": [
        "# Training to model using Grdient Boosting Regressor \n",
        "model = ensemble.GradientBoostingRegressor()\n",
        "\n",
        "# Setting the parameter range for testing\n",
        "param_grid = {\n",
        "    'n_estimators': [1000, 3000],\n",
        "    'max_depth': [4, 6],\n",
        "    'min_samples_leaf': [9, 17],\n",
        "    'learning_rate': [0.1, 0.01],\n",
        "    'max_features': [1.0, 0.1],\n",
        "    'loss': ['squared_error', 'huber']\n",
        "}"
      ],
      "metadata": {
        "id": "gFayEZ8CErX3"
      },
      "execution_count": null,
      "outputs": []
    },
    {
      "cell_type": "code",
      "source": [
        "ht_model2 = RandomizedSearchCV(model, param_grid, n_iter = 20, verbose=3, random_state=42)\n",
        "ht_model2.fit(X_train, y_train)"
      ],
      "metadata": {
        "colab": {
          "base_uri": "https://localhost:8080/"
        },
        "id": "8zxE5KX9EwOH",
        "outputId": "4f22c555-6c6a-4283-e5e7-1af8336d9cc3"
      },
      "execution_count": null,
      "outputs": [
        {
          "output_type": "stream",
          "name": "stdout",
          "text": [
            "Fitting 5 folds for each of 20 candidates, totalling 100 fits\n",
            "[CV 1/5] END learning_rate=0.01, loss=huber, max_depth=4, max_features=0.1, min_samples_leaf=9, n_estimators=1000;, score=0.852 total time=  59.7s\n",
            "[CV 2/5] END learning_rate=0.01, loss=huber, max_depth=4, max_features=0.1, min_samples_leaf=9, n_estimators=1000;, score=0.854 total time= 1.0min\n",
            "[CV 3/5] END learning_rate=0.01, loss=huber, max_depth=4, max_features=0.1, min_samples_leaf=9, n_estimators=1000;, score=0.852 total time= 1.0min\n",
            "[CV 4/5] END learning_rate=0.01, loss=huber, max_depth=4, max_features=0.1, min_samples_leaf=9, n_estimators=1000;, score=0.845 total time= 1.0min\n",
            "[CV 5/5] END learning_rate=0.01, loss=huber, max_depth=4, max_features=0.1, min_samples_leaf=9, n_estimators=1000;, score=0.848 total time= 1.0min\n",
            "[CV 1/5] END learning_rate=0.01, loss=huber, max_depth=6, max_features=1.0, min_samples_leaf=17, n_estimators=1000;, score=0.922 total time= 5.3min\n",
            "[CV 2/5] END learning_rate=0.01, loss=huber, max_depth=6, max_features=1.0, min_samples_leaf=17, n_estimators=1000;, score=0.920 total time= 5.3min\n",
            "[CV 3/5] END learning_rate=0.01, loss=huber, max_depth=6, max_features=1.0, min_samples_leaf=17, n_estimators=1000;, score=0.922 total time= 5.3min\n",
            "[CV 4/5] END learning_rate=0.01, loss=huber, max_depth=6, max_features=1.0, min_samples_leaf=17, n_estimators=1000;, score=0.918 total time= 5.3min\n",
            "[CV 5/5] END learning_rate=0.01, loss=huber, max_depth=6, max_features=1.0, min_samples_leaf=17, n_estimators=1000;, score=0.919 total time= 5.3min\n",
            "[CV 1/5] END learning_rate=0.1, loss=squared_error, max_depth=4, max_features=1.0, min_samples_leaf=9, n_estimators=1000;, score=0.954 total time= 3.3min\n",
            "[CV 2/5] END learning_rate=0.1, loss=squared_error, max_depth=4, max_features=1.0, min_samples_leaf=9, n_estimators=1000;, score=0.955 total time= 3.4min\n",
            "[CV 3/5] END learning_rate=0.1, loss=squared_error, max_depth=4, max_features=1.0, min_samples_leaf=9, n_estimators=1000;, score=0.953 total time= 3.3min\n",
            "[CV 4/5] END learning_rate=0.1, loss=squared_error, max_depth=4, max_features=1.0, min_samples_leaf=9, n_estimators=1000;, score=0.954 total time= 3.3min\n",
            "[CV 5/5] END learning_rate=0.1, loss=squared_error, max_depth=4, max_features=1.0, min_samples_leaf=9, n_estimators=1000;, score=0.954 total time= 3.2min\n",
            "[CV 1/5] END learning_rate=0.01, loss=squared_error, max_depth=6, max_features=0.1, min_samples_leaf=9, n_estimators=1000;, score=0.909 total time=  37.1s\n",
            "[CV 2/5] END learning_rate=0.01, loss=squared_error, max_depth=6, max_features=0.1, min_samples_leaf=9, n_estimators=1000;, score=0.910 total time=  37.5s\n",
            "[CV 3/5] END learning_rate=0.01, loss=squared_error, max_depth=6, max_features=0.1, min_samples_leaf=9, n_estimators=1000;, score=0.908 total time=  37.5s\n",
            "[CV 4/5] END learning_rate=0.01, loss=squared_error, max_depth=6, max_features=0.1, min_samples_leaf=9, n_estimators=1000;, score=0.907 total time=  38.0s\n",
            "[CV 5/5] END learning_rate=0.01, loss=squared_error, max_depth=6, max_features=0.1, min_samples_leaf=9, n_estimators=1000;, score=0.907 total time=  38.1s\n",
            "[CV 1/5] END learning_rate=0.1, loss=squared_error, max_depth=4, max_features=0.1, min_samples_leaf=9, n_estimators=3000;, score=0.951 total time= 1.4min\n",
            "[CV 2/5] END learning_rate=0.1, loss=squared_error, max_depth=4, max_features=0.1, min_samples_leaf=9, n_estimators=3000;, score=0.953 total time= 1.3min\n",
            "[CV 3/5] END learning_rate=0.1, loss=squared_error, max_depth=4, max_features=0.1, min_samples_leaf=9, n_estimators=3000;, score=0.951 total time= 1.4min\n",
            "[CV 4/5] END learning_rate=0.1, loss=squared_error, max_depth=4, max_features=0.1, min_samples_leaf=9, n_estimators=3000;, score=0.952 total time= 1.3min\n",
            "[CV 5/5] END learning_rate=0.1, loss=squared_error, max_depth=4, max_features=0.1, min_samples_leaf=9, n_estimators=3000;, score=0.952 total time= 1.3min\n",
            "[CV 1/5] END learning_rate=0.01, loss=squared_error, max_depth=4, max_features=0.1, min_samples_leaf=9, n_estimators=1000;, score=0.866 total time=  27.0s\n",
            "[CV 2/5] END learning_rate=0.01, loss=squared_error, max_depth=4, max_features=0.1, min_samples_leaf=9, n_estimators=1000;, score=0.867 total time=  26.5s\n",
            "[CV 3/5] END learning_rate=0.01, loss=squared_error, max_depth=4, max_features=0.1, min_samples_leaf=9, n_estimators=1000;, score=0.866 total time=  27.3s\n",
            "[CV 4/5] END learning_rate=0.01, loss=squared_error, max_depth=4, max_features=0.1, min_samples_leaf=9, n_estimators=1000;, score=0.860 total time=  26.8s\n",
            "[CV 5/5] END learning_rate=0.01, loss=squared_error, max_depth=4, max_features=0.1, min_samples_leaf=9, n_estimators=1000;, score=0.862 total time=  27.0s\n",
            "[CV 1/5] END learning_rate=0.1, loss=huber, max_depth=4, max_features=1.0, min_samples_leaf=9, n_estimators=1000;, score=0.952 total time= 3.8min\n",
            "[CV 2/5] END learning_rate=0.1, loss=huber, max_depth=4, max_features=1.0, min_samples_leaf=9, n_estimators=1000;, score=0.953 total time= 3.8min\n",
            "[CV 3/5] END learning_rate=0.1, loss=huber, max_depth=4, max_features=1.0, min_samples_leaf=9, n_estimators=1000;, score=0.953 total time= 3.8min\n",
            "[CV 4/5] END learning_rate=0.1, loss=huber, max_depth=4, max_features=1.0, min_samples_leaf=9, n_estimators=1000;, score=0.952 total time= 3.8min\n",
            "[CV 5/5] END learning_rate=0.1, loss=huber, max_depth=4, max_features=1.0, min_samples_leaf=9, n_estimators=1000;, score=0.952 total time= 3.8min\n",
            "[CV 1/5] END learning_rate=0.1, loss=squared_error, max_depth=6, max_features=0.1, min_samples_leaf=9, n_estimators=1000;, score=0.953 total time=  38.5s\n",
            "[CV 2/5] END learning_rate=0.1, loss=squared_error, max_depth=6, max_features=0.1, min_samples_leaf=9, n_estimators=1000;, score=0.954 total time=  38.7s\n",
            "[CV 3/5] END learning_rate=0.1, loss=squared_error, max_depth=6, max_features=0.1, min_samples_leaf=9, n_estimators=1000;, score=0.952 total time=  38.3s\n",
            "[CV 4/5] END learning_rate=0.1, loss=squared_error, max_depth=6, max_features=0.1, min_samples_leaf=9, n_estimators=1000;, score=0.954 total time=  38.3s\n",
            "[CV 5/5] END learning_rate=0.1, loss=squared_error, max_depth=6, max_features=0.1, min_samples_leaf=9, n_estimators=1000;, score=0.953 total time=  37.7s\n",
            "[CV 1/5] END learning_rate=0.1, loss=huber, max_depth=6, max_features=1.0, min_samples_leaf=9, n_estimators=3000;, score=0.964 total time=15.3min\n",
            "[CV 2/5] END learning_rate=0.1, loss=huber, max_depth=6, max_features=1.0, min_samples_leaf=9, n_estimators=3000;, score=0.965 total time=15.4min\n",
            "[CV 3/5] END learning_rate=0.1, loss=huber, max_depth=6, max_features=1.0, min_samples_leaf=9, n_estimators=3000;, score=0.965 total time=15.4min\n",
            "[CV 4/5] END learning_rate=0.1, loss=huber, max_depth=6, max_features=1.0, min_samples_leaf=9, n_estimators=3000;, score=0.964 total time=15.3min\n",
            "[CV 5/5] END learning_rate=0.1, loss=huber, max_depth=6, max_features=1.0, min_samples_leaf=9, n_estimators=3000;, score=0.965 total time=15.5min\n",
            "[CV 1/5] END learning_rate=0.01, loss=huber, max_depth=6, max_features=0.1, min_samples_leaf=9, n_estimators=3000;, score=0.939 total time= 4.0min\n",
            "[CV 2/5] END learning_rate=0.01, loss=huber, max_depth=6, max_features=0.1, min_samples_leaf=9, n_estimators=3000;, score=0.939 total time= 4.0min\n",
            "[CV 3/5] END learning_rate=0.01, loss=huber, max_depth=6, max_features=0.1, min_samples_leaf=9, n_estimators=3000;, score=0.938 total time= 4.0min\n",
            "[CV 4/5] END learning_rate=0.01, loss=huber, max_depth=6, max_features=0.1, min_samples_leaf=9, n_estimators=3000;, score=0.938 total time= 4.0min\n",
            "[CV 5/5] END learning_rate=0.01, loss=huber, max_depth=6, max_features=0.1, min_samples_leaf=9, n_estimators=3000;, score=0.938 total time= 4.0min\n",
            "[CV 1/5] END learning_rate=0.01, loss=huber, max_depth=6, max_features=1.0, min_samples_leaf=9, n_estimators=1000;, score=0.922 total time= 5.2min\n",
            "[CV 2/5] END learning_rate=0.01, loss=huber, max_depth=6, max_features=1.0, min_samples_leaf=9, n_estimators=1000;, score=0.921 total time= 5.2min\n",
            "[CV 3/5] END learning_rate=0.01, loss=huber, max_depth=6, max_features=1.0, min_samples_leaf=9, n_estimators=1000;, score=0.922 total time= 5.2min\n",
            "[CV 4/5] END learning_rate=0.01, loss=huber, max_depth=6, max_features=1.0, min_samples_leaf=9, n_estimators=1000;, score=0.920 total time= 5.2min\n",
            "[CV 5/5] END learning_rate=0.01, loss=huber, max_depth=6, max_features=1.0, min_samples_leaf=9, n_estimators=1000;, score=0.919 total time= 5.2min\n",
            "[CV 1/5] END learning_rate=0.1, loss=squared_error, max_depth=6, max_features=1.0, min_samples_leaf=9, n_estimators=3000;, score=0.965 total time=13.9min\n",
            "[CV 2/5] END learning_rate=0.1, loss=squared_error, max_depth=6, max_features=1.0, min_samples_leaf=9, n_estimators=3000;, score=0.966 total time=13.9min\n",
            "[CV 3/5] END learning_rate=0.1, loss=squared_error, max_depth=6, max_features=1.0, min_samples_leaf=9, n_estimators=3000;, score=0.965 total time=13.7min\n",
            "[CV 4/5] END learning_rate=0.1, loss=squared_error, max_depth=6, max_features=1.0, min_samples_leaf=9, n_estimators=3000;, score=0.965 total time=13.9min\n",
            "[CV 5/5] END learning_rate=0.1, loss=squared_error, max_depth=6, max_features=1.0, min_samples_leaf=9, n_estimators=3000;, score=0.965 total time=13.9min\n",
            "[CV 1/5] END learning_rate=0.01, loss=squared_error, max_depth=6, max_features=1.0, min_samples_leaf=9, n_estimators=1000;, score=0.928 total time= 4.5min\n",
            "[CV 2/5] END learning_rate=0.01, loss=squared_error, max_depth=6, max_features=1.0, min_samples_leaf=9, n_estimators=1000;, score=0.928 total time= 4.5min\n",
            "[CV 3/5] END learning_rate=0.01, loss=squared_error, max_depth=6, max_features=1.0, min_samples_leaf=9, n_estimators=1000;, score=0.928 total time= 4.5min\n",
            "[CV 4/5] END learning_rate=0.01, loss=squared_error, max_depth=6, max_features=1.0, min_samples_leaf=9, n_estimators=1000;, score=0.927 total time= 4.6min\n",
            "[CV 5/5] END learning_rate=0.01, loss=squared_error, max_depth=6, max_features=1.0, min_samples_leaf=9, n_estimators=1000;, score=0.927 total time= 4.5min\n",
            "[CV 1/5] END learning_rate=0.1, loss=squared_error, max_depth=6, max_features=0.1, min_samples_leaf=9, n_estimators=3000;, score=0.960 total time= 1.9min\n",
            "[CV 2/5] END learning_rate=0.1, loss=squared_error, max_depth=6, max_features=0.1, min_samples_leaf=9, n_estimators=3000;, score=0.960 total time= 1.9min\n",
            "[CV 3/5] END learning_rate=0.1, loss=squared_error, max_depth=6, max_features=0.1, min_samples_leaf=9, n_estimators=3000;, score=0.960 total time= 1.9min\n",
            "[CV 4/5] END learning_rate=0.1, loss=squared_error, max_depth=6, max_features=0.1, min_samples_leaf=9, n_estimators=3000;, score=0.960 total time= 1.9min\n",
            "[CV 5/5] END learning_rate=0.1, loss=squared_error, max_depth=6, max_features=0.1, min_samples_leaf=9, n_estimators=3000;, score=0.960 total time= 2.0min\n",
            "[CV 1/5] END learning_rate=0.01, loss=squared_error, max_depth=4, max_features=1.0, min_samples_leaf=17, n_estimators=1000;, score=0.888 total time= 3.4min\n",
            "[CV 2/5] END learning_rate=0.01, loss=squared_error, max_depth=4, max_features=1.0, min_samples_leaf=17, n_estimators=1000;, score=0.887 total time= 3.3min\n",
            "[CV 3/5] END learning_rate=0.01, loss=squared_error, max_depth=4, max_features=1.0, min_samples_leaf=17, n_estimators=1000;, score=0.886 total time= 3.3min\n",
            "[CV 4/5] END learning_rate=0.01, loss=squared_error, max_depth=4, max_features=1.0, min_samples_leaf=17, n_estimators=1000;, score=0.883 total time= 3.3min\n",
            "[CV 5/5] END learning_rate=0.01, loss=squared_error, max_depth=4, max_features=1.0, min_samples_leaf=17, n_estimators=1000;, score=0.885 total time= 3.3min\n",
            "[CV 1/5] END learning_rate=0.01, loss=huber, max_depth=4, max_features=1.0, min_samples_leaf=17, n_estimators=1000;, score=0.874 total time= 3.8min\n",
            "[CV 2/5] END learning_rate=0.01, loss=huber, max_depth=4, max_features=1.0, min_samples_leaf=17, n_estimators=1000;, score=0.875 total time= 3.7min\n",
            "[CV 3/5] END learning_rate=0.01, loss=huber, max_depth=4, max_features=1.0, min_samples_leaf=17, n_estimators=1000;, score=0.875 total time= 3.8min\n",
            "[CV 4/5] END learning_rate=0.01, loss=huber, max_depth=4, max_features=1.0, min_samples_leaf=17, n_estimators=1000;, score=0.869 total time= 3.8min\n",
            "[CV 5/5] END learning_rate=0.01, loss=huber, max_depth=4, max_features=1.0, min_samples_leaf=17, n_estimators=1000;, score=0.871 total time= 3.7min\n",
            "[CV 1/5] END learning_rate=0.1, loss=squared_error, max_depth=4, max_features=1.0, min_samples_leaf=17, n_estimators=3000;, score=0.960 total time= 9.7min\n",
            "[CV 2/5] END learning_rate=0.1, loss=squared_error, max_depth=4, max_features=1.0, min_samples_leaf=17, n_estimators=3000;, score=0.961 total time=10.1min\n",
            "[CV 3/5] END learning_rate=0.1, loss=squared_error, max_depth=4, max_features=1.0, min_samples_leaf=17, n_estimators=3000;, score=0.961 total time= 9.8min\n",
            "[CV 4/5] END learning_rate=0.1, loss=squared_error, max_depth=4, max_features=1.0, min_samples_leaf=17, n_estimators=3000;, score=0.960 total time= 9.9min\n",
            "[CV 5/5] END learning_rate=0.1, loss=squared_error, max_depth=4, max_features=1.0, min_samples_leaf=17, n_estimators=3000;, score=0.960 total time=10.0min\n",
            "[CV 1/5] END learning_rate=0.1, loss=huber, max_depth=4, max_features=1.0, min_samples_leaf=9, n_estimators=3000;, score=0.960 total time=11.1min\n",
            "[CV 2/5] END learning_rate=0.1, loss=huber, max_depth=4, max_features=1.0, min_samples_leaf=9, n_estimators=3000;, score=0.960 total time=11.2min\n",
            "[CV 3/5] END learning_rate=0.1, loss=huber, max_depth=4, max_features=1.0, min_samples_leaf=9, n_estimators=3000;, score=0.960 total time=11.1min\n",
            "[CV 4/5] END learning_rate=0.1, loss=huber, max_depth=4, max_features=1.0, min_samples_leaf=9, n_estimators=3000;, score=0.959 total time=11.1min\n",
            "[CV 5/5] END learning_rate=0.1, loss=huber, max_depth=4, max_features=1.0, min_samples_leaf=9, n_estimators=3000;, score=0.960 total time=11.2min\n",
            "[CV 1/5] END learning_rate=0.01, loss=huber, max_depth=4, max_features=1.0, min_samples_leaf=9, n_estimators=3000;, score=0.928 total time=11.7min\n",
            "[CV 2/5] END learning_rate=0.01, loss=huber, max_depth=4, max_features=1.0, min_samples_leaf=9, n_estimators=3000;, score=0.927 total time=11.9min\n",
            "[CV 3/5] END learning_rate=0.01, loss=huber, max_depth=4, max_features=1.0, min_samples_leaf=9, n_estimators=3000;, score=0.927 total time=11.6min\n",
            "[CV 4/5] END learning_rate=0.01, loss=huber, max_depth=4, max_features=1.0, min_samples_leaf=9, n_estimators=3000;, score=0.926 total time=11.8min\n",
            "[CV 5/5] END learning_rate=0.01, loss=huber, max_depth=4, max_features=1.0, min_samples_leaf=9, n_estimators=3000;, score=0.927 total time=11.7min\n",
            "[CV 1/5] END learning_rate=0.1, loss=squared_error, max_depth=6, max_features=1.0, min_samples_leaf=9, n_estimators=1000;, score=0.962 total time= 4.9min\n",
            "[CV 2/5] END learning_rate=0.1, loss=squared_error, max_depth=6, max_features=1.0, min_samples_leaf=9, n_estimators=1000;, score=0.963 total time= 4.9min\n",
            "[CV 3/5] END learning_rate=0.1, loss=squared_error, max_depth=6, max_features=1.0, min_samples_leaf=9, n_estimators=1000;, score=0.962 total time= 4.9min\n",
            "[CV 4/5] END learning_rate=0.1, loss=squared_error, max_depth=6, max_features=1.0, min_samples_leaf=9, n_estimators=1000;, score=0.962 total time= 4.8min\n",
            "[CV 5/5] END learning_rate=0.1, loss=squared_error, max_depth=6, max_features=1.0, min_samples_leaf=9, n_estimators=1000;, score=0.962 total time= 4.9min\n"
          ]
        },
        {
          "output_type": "execute_result",
          "data": {
            "text/plain": [
              "RandomizedSearchCV(estimator=GradientBoostingRegressor(), n_iter=20,\n",
              "                   param_distributions={'learning_rate': [0.1, 0.01],\n",
              "                                        'loss': ['squared_error', 'huber'],\n",
              "                                        'max_depth': [4, 6],\n",
              "                                        'max_features': [1.0, 0.1],\n",
              "                                        'min_samples_leaf': [9, 17],\n",
              "                                        'n_estimators': [1000, 3000]},\n",
              "                   random_state=42, verbose=3)"
            ]
          },
          "metadata": {},
          "execution_count": 25
        }
      ]
    },
    {
      "cell_type": "code",
      "source": [
        "print(ht_model2.best_params_)"
      ],
      "metadata": {
        "id": "SIC-dZyHpWy3",
        "outputId": "a955947c-fb62-4cc7-89fc-c9600f3612ac",
        "colab": {
          "base_uri": "https://localhost:8080/"
        }
      },
      "execution_count": null,
      "outputs": [
        {
          "output_type": "stream",
          "name": "stdout",
          "text": [
            "{'n_estimators': 3000, 'min_samples_leaf': 9, 'max_features': 1.0, 'max_depth': 6, 'loss': 'squared_error', 'learning_rate': 0.1}\n"
          ]
        }
      ]
    },
    {
      "cell_type": "code",
      "source": [
        "# Training to model using Random Forest Regressor (Default Parameters)\n",
        "GBR_Tuned = ensemble.GradientBoostingRegressor(n_estimators=3000, min_samples_leaf=9, max_features=1, max_depth=6, loss='squared_error', learning_rate=0.1)\n",
        "\n",
        "X = features_df.values\n",
        "y = df['resale_price'].values\n",
        "\n",
        "# Split the data set in a training set (70%) and a test set (30%)\n",
        "X_train, X_test, y_train, y_test = train_test_split(X, y, test_size=0.3, random_state=0)\n",
        "GBR_Tuned.fit(X_train, y_train)\n",
        "\n"
      ],
      "metadata": {
        "id": "rRL7bEgQpdvr",
        "outputId": "63764cf5-97f7-4987-d47f-4db306212cb9",
        "colab": {
          "base_uri": "https://localhost:8080/"
        }
      },
      "execution_count": null,
      "outputs": [
        {
          "output_type": "execute_result",
          "data": {
            "text/plain": [
              "GradientBoostingRegressor(max_depth=6, max_features=1, min_samples_leaf=9,\n",
              "                          n_estimators=3000)"
            ]
          },
          "metadata": {},
          "execution_count": 27
        }
      ]
    },
    {
      "cell_type": "code",
      "source": [
        "GBRT_train = GBR_Tuned.predict(X_train)                 \n",
        "print('Training MAE: {:,.2f}'.format(mean_absolute_error(y_train, GBRT_train)))\n",
        "print('Training R-squared : {:.3f}'.format(r2_score(y_train, GBRT_train)))\n",
        "\n",
        "GBRT_test = GBR_Tuned.predict(X_test)\n",
        "print('Test MAE: {:,.2f}'.format(mean_absolute_error(y_test, GBRT_test)))\n",
        "print('Test R-squared : {:.3f}'.format(r2_score(y_test, GBRT_test)))"
      ],
      "metadata": {
        "id": "gdfTH_CBpkWF",
        "outputId": "8f0f262d-3fd6-4b2d-de9d-ae7cf81b8993",
        "colab": {
          "base_uri": "https://localhost:8080/"
        }
      },
      "execution_count": null,
      "outputs": [
        {
          "output_type": "stream",
          "name": "stdout",
          "text": [
            "Training MAE: 23,786.91\n",
            "Training R-squared : 0.957\n",
            "Test MAE: 25,347.33\n",
            "Test R-squared : 0.950\n"
          ]
        }
      ]
    },
    {
      "cell_type": "code",
      "source": [
        "feature_labels = ['month', 'floor_area_sqm', 'lease_commence_date', 'town_ANG MO KIO',\n",
        "       'town_BEDOK', 'town_BISHAN', 'town_BUKIT BATOK', 'town_BUKIT MERAH',\n",
        "       'town_BUKIT PANJANG', 'town_BUKIT TIMAH', 'town_CENTRAL AREA',\n",
        "       'town_CHOA CHU KANG', 'town_CLEMENTI', 'town_GEYLANG', 'town_HOUGANG',\n",
        "       'town_JURONG EAST', 'town_JURONG WEST', 'town_KALLANG/WHAMPOA',\n",
        "       'town_MARINE PARADE', 'town_PASIR RIS', 'town_PUNGGOL',\n",
        "       'town_QUEENSTOWN', 'town_SEMBAWANG', 'town_SENGKANG', 'town_SERANGOON',\n",
        "       'town_TAMPINES', 'town_TOA PAYOH', 'town_WOODLANDS', 'town_YISHUN',\n",
        "       'flat_type_1 ROOM', 'flat_type_2 ROOM', 'flat_type_3 ROOM',\n",
        "       'flat_type_4 ROOM', 'flat_type_5 ROOM', 'flat_type_EXECUTIVE',\n",
        "       'flat_type_MULTI-GENERATION', 'storey_range_01 TO 03',\n",
        "       'storey_range_04 TO 06', 'storey_range_07 TO 09',\n",
        "       'storey_range_10 TO 12', 'storey_range_13 TO 15',\n",
        "       'storey_range_16 TO 18', 'storey_range_19 TO 21',\n",
        "       'storey_range_22 TO 24', 'storey_range_25 TO 27',\n",
        "       'storey_range_28 TO 30', 'storey_range_31 TO 33',\n",
        "       'storey_range_34 TO 36', 'storey_range_37 TO 39',\n",
        "       'storey_range_40 TO 42', 'storey_range_43 TO 45',\n",
        "       'storey_range_46 TO 48', 'storey_range_49 TO 51', 'flat_model_2-room',\n",
        "       'flat_model_Adjoined flat', 'flat_model_Apartment', 'flat_model_DBSS',\n",
        "       'flat_model_Improved', 'flat_model_Improved-Maisonette',\n",
        "       'flat_model_Maisonette', 'flat_model_Model A',\n",
        "       'flat_model_Model A-Maisonette', 'flat_model_Model A2',\n",
        "       'flat_model_Multi Generation', 'flat_model_New Generation',\n",
        "       'flat_model_Premium Apartment', 'flat_model_Premium Apartment Loft',\n",
        "       'flat_model_Premium Maisonette', 'flat_model_Simplified',\n",
        "       'flat_model_Standard', 'flat_model_Terrace', 'flat_model_Type S1',\n",
        "       'flat_model_Type S2','year']\n",
        "\n",
        "importance = GBR_Tuned.feature_importances_       \n",
        "feature_indexes_by_importance = importance.argsort()\n",
        "\n",
        "# Print each feature label, from most important to least important (reverse order)\n",
        "for i in reversed(feature_indexes_by_importance[-10:]):\n",
        "    print(\"{} - {:.2f}%\".format(feature_labels[i], (importance[i] * 100.0)))"
      ],
      "metadata": {
        "id": "0wRqb0F4pn8i",
        "outputId": "e7ce6c2f-15b2-4221-c85c-dfda2d02a4bc",
        "colab": {
          "base_uri": "https://localhost:8080/"
        }
      },
      "execution_count": null,
      "outputs": [
        {
          "output_type": "stream",
          "name": "stdout",
          "text": [
            "floor_area_sqm - 17.55%\n",
            "flat_type_3 ROOM - 11.74%\n",
            "lease_commence_date - 9.31%\n",
            "flat_type_EXECUTIVE - 4.29%\n",
            "flat_model_DBSS - 3.97%\n",
            "town_BUKIT MERAH - 3.66%\n",
            "flat_type_5 ROOM - 3.57%\n",
            "flat_model_Maisonette - 3.37%\n",
            "year - 2.79%\n",
            "town_QUEENSTOWN - 2.70%\n"
          ]
        }
      ]
    },
    {
      "cell_type": "markdown",
      "source": [
        ""
      ],
      "metadata": {
        "id": "hQHolwhSp6nT"
      }
    },
    {
      "cell_type": "code",
      "execution_count": null,
      "metadata": {
        "colab": {
          "base_uri": "https://localhost:8080/"
        },
        "id": "pP4T3-rD7VeV",
        "outputId": "a7b98527-bfab-42b5-934d-25a7aa626f10"
      },
      "outputs": [
        {
          "output_type": "execute_result",
          "data": {
            "text/plain": [
              "['/content/drive/MyDrive/MLDV/Assessment/trained_hdb_resale_estimator.pkl']"
            ]
          },
          "metadata": {},
          "execution_count": 34
        }
      ],
      "source": [
        "# Save the trained model to a file so we can use it other programs \n",
        "joblib.dump(GBR_Tuned, '/content/drive/MyDrive/MLDV/Assessment/trained_hdb_resale_estimator.pkl')"
      ]
    },
    {
      "cell_type": "markdown",
      "source": [
        "### 5. Data Validation\n",
        "I tested the data with some home prices on PropertyGuru to determine its accuracy in predicting today's prices. "
      ],
      "metadata": {
        "id": "MKmGc88N2mL9"
      }
    },
    {
      "cell_type": "code",
      "execution_count": null,
      "metadata": {
        "id": "KBxIWz7378iR"
      },
      "outputs": [],
      "source": [
        "house_to_predict = [\n",
        "  1, # month you want to buy \n",
        "  133, # floor_area_sqm \n",
        "  1984, # lease_commence_date \n",
        "\n",
        "  # Select 1 Town \n",
        "  0, # ANG MO KIO\n",
        "  0, # BEDOK\n",
        "  0, # BISHAN \n",
        "  0, # BUKIT BATOK \n",
        "  0, # BUKIT MERAH\n",
        "  0, # BUKIT PANJANG \n",
        "  0, # BUKIT TIMAH \n",
        "  0, # CENTRAL AREA\n",
        "  0, # CHOA CHU KANG \n",
        "  0, # CLEMENTI \n",
        "  0, # GEYLANG \n",
        "  0, # HOUGANG\n",
        "  0, # JURONG EAST \n",
        "  0, # JURONG WEST \n",
        "  0, # KALLANG/WHAMPOA\n",
        "  0, # MARINE PARADE \n",
        "  0, # PASIR RIS \n",
        "  0, # PUNGGOL\n",
        "  0, # QUEENSTOWN \n",
        "  0, # SEMBAWANG \n",
        "  0, # SENGKANG \n",
        "  0, # SERANGOON\n",
        "  1, # TAMPINES \n",
        "  0, # TOA PAYOH \n",
        "  0, # WOODLANDS \n",
        "  0, # YISHUN\n",
        "\n",
        "  # Select 1 Flat Type\n",
        "  0, # 1 ROOM \n",
        "  0, # 2 ROOM \n",
        "  0, # 3 ROOM\n",
        "  0, # 4 ROOM \n",
        "  1, # 5 ROOM \n",
        "  0, # EXECUTIVE\n",
        "  0, # MULTI-GENERATION \n",
        "\n",
        "  # Select Floor\n",
        "  0, # 01 TO 03\n",
        "  1, # 04 TO 06 \n",
        "  0, # 07 TO 09\n",
        "  0, # 10 TO 12 \n",
        "  0, # 13 TO 15\n",
        "  0, # 16 TO 18 \n",
        "  0, # 19 TO 21\n",
        "  0, # 22 TO 24 \n",
        "  0, # 25 TO 27\n",
        "  0, # 28 TO 30 \n",
        "  0, # 31 TO 33\n",
        "  0, # 34 TO 36 \n",
        "  0, # 37 TO 39\n",
        "  0, # 40 TO 42 \n",
        "  0, # 43 TO 45\n",
        "  0, # 46 TO 48 \n",
        "  0, # 49 TO 51 \n",
        "\n",
        "  # Flat Model\n",
        "  0, # 2-room\n",
        "  0, # Adjoined flat \n",
        "  0, # Apartment \n",
        "  0, # DBSS\n",
        "  0, # Improved \n",
        "  0, # Improved-Maisonette\n",
        "  0, # Maisonette \n",
        "  1, # Model A\n",
        "  0, # Model A-Maisonette \n",
        "  0, # Model A2\n",
        "  0, # Multi Generation \n",
        "  0, # New Generation\n",
        "  0, # Premium Apartment \n",
        "  0, # Premium Apartment Loft\n",
        "  0, # Premium Maisonette \n",
        "  0, # Simplified\n",
        "  0, # Standard \n",
        "  0, # Terrace \n",
        "  0, # Type S1\n",
        "  0, # Type S2\n",
        "\n",
        "  2022 # year you want to buy\n",
        "]"
      ]
    },
    {
      "cell_type": "markdown",
      "source": [
        "Comparing the results from [HDB Resale Prices checklist](https://services2.hdb.gov.sg/webapp/BB33RTIS/BB33PReslTrans.jsp), a flat with the above features has a listed price was $638,000.00 which is within the acceptable limits of our test data. "
      ],
      "metadata": {
        "id": "2TJPrNgu3DNT"
      }
    },
    {
      "cell_type": "code",
      "execution_count": null,
      "metadata": {
        "colab": {
          "base_uri": "https://localhost:8080/"
        },
        "id": "_eQiOxIH-SRj",
        "outputId": "f5596c84-d3da-49eb-cc70-4195a50ef588"
      },
      "outputs": [
        {
          "output_type": "stream",
          "name": "stdout",
          "text": [
            "This house has an estimated value of $630,525.32\n"
          ]
        }
      ],
      "source": [
        "predicted_value = GBR_Tuned.predict([house_to_predict])[0]\n",
        "print(\"This house has an estimated value of ${:,.2f}\".format(predicted_value))"
      ]
    },
    {
      "cell_type": "markdown",
      "source": [
        "### 6. Conclusion"
      ],
      "metadata": {
        "id": "Q90SpznNZoGS"
      }
    },
    {
      "cell_type": "markdown",
      "source": [
        "While **Random Forest** has a higher accuracy in both the training and test data, it seems like there is a possibility of overfitting due to the low bias in training data and high variance in the test data. Hyperparamter tuning using RandomSearchCV did not significantly improve the accuracy nor generalization of the model, resulting in a very inaccurate prediction. \n",
        "\n",
        "I also tested the **Gradient Boosting Regressor**, as it has a well balanced model with the smallest difference between training and test data. I optimized the parameters using RandomSearchCV and saw a 10% increase in accuracy, with the model prediction performing more accurately than Random Forest. \n",
        "\n",
        "The top 3 features that determines the prices seems to be the floor area, lease date and flat type. \n",
        "\n",
        "\n",
        "##### **Limitations**\n",
        "\n",
        "* The model does not account for [cooling measures](https://www.mnd.gov.sg/newsroom/press-releases/view/measures-to-cool-the-property-market) announced by the government on December 15, 2021. \n",
        "* It also does not factor in other nuances such as the condition of the flat, renovations, amenities etc\n",
        "* There could also be other factors and natural forces affecting the price of resale flats, such as the current market conditions and the Covid-19 pandemic. \n",
        "\n",
        "\n",
        "##### **Web Application**\n",
        "Try out the model at https://hdb-resale-predictor.herokuapp.com/ \n",
        "\n"
      ],
      "metadata": {
        "id": "NoSk0G06vXH8"
      }
    }
  ],
  "metadata": {
    "accelerator": "GPU",
    "colab": {
      "collapsed_sections": [],
      "name": "MLDV-2082050B-Muhammad_Putra_Nursallihin.ipynb",
      "provenance": [],
      "machine_shape": "hm",
      "background_execution": "on",
      "mount_file_id": "1CsQxlUrpcepFy7g9rdyYV52-mEk-c8P5",
      "authorship_tag": "ABX9TyO27i5XOKDgKEmjcaDSYwfC",
      "include_colab_link": true
    },
    "kernelspec": {
      "display_name": "Python 3",
      "name": "python3"
    },
    "language_info": {
      "name": "python"
    }
  },
  "nbformat": 4,
  "nbformat_minor": 0
}